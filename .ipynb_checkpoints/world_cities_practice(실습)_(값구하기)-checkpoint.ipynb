{
 "cells": [
  {
   "cell_type": "code",
   "execution_count": 1,
   "metadata": {},
   "outputs": [],
   "source": [
    "import pandas as pd"
   ]
  },
  {
   "cell_type": "code",
   "execution_count": 7,
   "metadata": {},
   "outputs": [],
   "source": [
    "df = pd.read_csv(\"Data/world_cities.csv\", index_col=0)"
   ]
  },
  {
   "cell_type": "code",
   "execution_count": 8,
   "metadata": {},
   "outputs": [
    {
     "data": {
      "text/html": [
       "<div>\n",
       "<style scoped>\n",
       "    .dataframe tbody tr th:only-of-type {\n",
       "        vertical-align: middle;\n",
       "    }\n",
       "\n",
       "    .dataframe tbody tr th {\n",
       "        vertical-align: top;\n",
       "    }\n",
       "\n",
       "    .dataframe thead th {\n",
       "        text-align: right;\n",
       "    }\n",
       "</style>\n",
       "<table border=\"1\" class=\"dataframe\">\n",
       "  <thead>\n",
       "    <tr style=\"text-align: right;\">\n",
       "      <th></th>\n",
       "      <th>City / Urban area</th>\n",
       "      <th>Country</th>\n",
       "      <th>Population</th>\n",
       "      <th>Land area (in sqKm)</th>\n",
       "    </tr>\n",
       "  </thead>\n",
       "  <tbody>\n",
       "    <tr>\n",
       "      <th>0</th>\n",
       "      <td>Buenos Aires</td>\n",
       "      <td>Argentina</td>\n",
       "      <td>11200000</td>\n",
       "      <td>2266</td>\n",
       "    </tr>\n",
       "    <tr>\n",
       "      <th>1</th>\n",
       "      <td>Melbourne</td>\n",
       "      <td>Australia</td>\n",
       "      <td>3162000</td>\n",
       "      <td>2080</td>\n",
       "    </tr>\n",
       "    <tr>\n",
       "      <th>2</th>\n",
       "      <td>Sydney</td>\n",
       "      <td>Australia</td>\n",
       "      <td>3502000</td>\n",
       "      <td>1687</td>\n",
       "    </tr>\n",
       "    <tr>\n",
       "      <th>3</th>\n",
       "      <td>Brisbane</td>\n",
       "      <td>Australia</td>\n",
       "      <td>1508000</td>\n",
       "      <td>1603</td>\n",
       "    </tr>\n",
       "    <tr>\n",
       "      <th>4</th>\n",
       "      <td>Perth</td>\n",
       "      <td>Australia</td>\n",
       "      <td>1177000</td>\n",
       "      <td>964</td>\n",
       "    </tr>\n",
       "    <tr>\n",
       "      <th>...</th>\n",
       "      <td>...</td>\n",
       "      <td>...</td>\n",
       "      <td>...</td>\n",
       "      <td>...</td>\n",
       "    </tr>\n",
       "    <tr>\n",
       "      <th>245</th>\n",
       "      <td>Canton</td>\n",
       "      <td>USA</td>\n",
       "      <td>267000</td>\n",
       "      <td>372</td>\n",
       "    </tr>\n",
       "    <tr>\n",
       "      <th>246</th>\n",
       "      <td>Spokane</td>\n",
       "      <td>USA</td>\n",
       "      <td>335000</td>\n",
       "      <td>371</td>\n",
       "    </tr>\n",
       "    <tr>\n",
       "      <th>247</th>\n",
       "      <td>Tashkent</td>\n",
       "      <td>Uzbekistan</td>\n",
       "      <td>2200000</td>\n",
       "      <td>531</td>\n",
       "    </tr>\n",
       "    <tr>\n",
       "      <th>248</th>\n",
       "      <td>Ho Chi Minh City</td>\n",
       "      <td>Vietnam</td>\n",
       "      <td>4900000</td>\n",
       "      <td>518</td>\n",
       "    </tr>\n",
       "    <tr>\n",
       "      <th>249</th>\n",
       "      <td>Harare</td>\n",
       "      <td>Zimbabwe</td>\n",
       "      <td>1750000</td>\n",
       "      <td>712</td>\n",
       "    </tr>\n",
       "  </tbody>\n",
       "</table>\n",
       "<p>249 rows × 4 columns</p>\n",
       "</div>"
      ],
      "text/plain": [
       "    City / Urban area     Country  Population  Land area (in sqKm)\n",
       "0        Buenos Aires   Argentina    11200000                 2266\n",
       "1           Melbourne   Australia     3162000                 2080\n",
       "2              Sydney   Australia     3502000                 1687\n",
       "3            Brisbane   Australia     1508000                 1603\n",
       "4               Perth   Australia     1177000                  964\n",
       "..                ...         ...         ...                  ...\n",
       "245            Canton         USA      267000                  372\n",
       "246           Spokane         USA      335000                  371\n",
       "247          Tashkent  Uzbekistan     2200000                  531\n",
       "248  Ho Chi Minh City     Vietnam     4900000                  518\n",
       "249            Harare    Zimbabwe     1750000                  712\n",
       "\n",
       "[249 rows x 4 columns]"
      ]
     },
     "execution_count": 8,
     "metadata": {},
     "output_type": "execute_result"
    }
   ],
   "source": [
    "#1번 문제 총 몇개의 나라와 도시가 있는지 구해보세요.\n",
    "df"
   ]
  },
  {
   "cell_type": "code",
   "execution_count": 9,
   "metadata": {},
   "outputs": [
    {
     "data": {
      "text/plain": [
       "(249, 4)"
      ]
     },
     "execution_count": 9,
     "metadata": {},
     "output_type": "execute_result"
    }
   ],
   "source": [
    "df.shape"
   ]
  },
  {
   "cell_type": "code",
   "execution_count": 12,
   "metadata": {},
   "outputs": [
    {
     "data": {
      "text/html": [
       "<div>\n",
       "<style scoped>\n",
       "    .dataframe tbody tr th:only-of-type {\n",
       "        vertical-align: middle;\n",
       "    }\n",
       "\n",
       "    .dataframe tbody tr th {\n",
       "        vertical-align: top;\n",
       "    }\n",
       "\n",
       "    .dataframe thead th {\n",
       "        text-align: right;\n",
       "    }\n",
       "</style>\n",
       "<table border=\"1\" class=\"dataframe\">\n",
       "  <thead>\n",
       "    <tr style=\"text-align: right;\">\n",
       "      <th></th>\n",
       "      <th>Population</th>\n",
       "      <th>Land area (in sqKm)</th>\n",
       "    </tr>\n",
       "  </thead>\n",
       "  <tbody>\n",
       "    <tr>\n",
       "      <th>count</th>\n",
       "      <td>2.490000e+02</td>\n",
       "      <td>249.000000</td>\n",
       "    </tr>\n",
       "    <tr>\n",
       "      <th>mean</th>\n",
       "      <td>3.006538e+06</td>\n",
       "      <td>1035.212851</td>\n",
       "    </tr>\n",
       "    <tr>\n",
       "      <th>std</th>\n",
       "      <td>4.136435e+06</td>\n",
       "      <td>1033.487331</td>\n",
       "    </tr>\n",
       "    <tr>\n",
       "      <th>min</th>\n",
       "      <td>1.810000e+05</td>\n",
       "      <td>365.000000</td>\n",
       "    </tr>\n",
       "    <tr>\n",
       "      <th>25%</th>\n",
       "      <td>5.980000e+05</td>\n",
       "      <td>511.000000</td>\n",
       "    </tr>\n",
       "    <tr>\n",
       "      <th>50%</th>\n",
       "      <td>1.500000e+06</td>\n",
       "      <td>684.000000</td>\n",
       "    </tr>\n",
       "    <tr>\n",
       "      <th>75%</th>\n",
       "      <td>3.502000e+06</td>\n",
       "      <td>1116.000000</td>\n",
       "    </tr>\n",
       "    <tr>\n",
       "      <th>max</th>\n",
       "      <td>3.320000e+07</td>\n",
       "      <td>8683.000000</td>\n",
       "    </tr>\n",
       "  </tbody>\n",
       "</table>\n",
       "</div>"
      ],
      "text/plain": [
       "         Population  Land area (in sqKm)\n",
       "count  2.490000e+02           249.000000\n",
       "mean   3.006538e+06          1035.212851\n",
       "std    4.136435e+06          1033.487331\n",
       "min    1.810000e+05           365.000000\n",
       "25%    5.980000e+05           511.000000\n",
       "50%    1.500000e+06           684.000000\n",
       "75%    3.502000e+06          1116.000000\n",
       "max    3.320000e+07          8683.000000"
      ]
     },
     "execution_count": 12,
     "metadata": {},
     "output_type": "execute_result"
    }
   ],
   "source": [
    "df.describe()"
   ]
  },
  {
   "cell_type": "code",
   "execution_count": 17,
   "metadata": {},
   "outputs": [
    {
     "name": "stdout",
     "output_type": "stream",
     "text": [
      "<class 'pandas.core.frame.DataFrame'>\n",
      "Int64Index: 249 entries, 0 to 249\n",
      "Data columns (total 4 columns):\n",
      " #   Column               Non-Null Count  Dtype \n",
      "---  ------               --------------  ----- \n",
      " 0   City / Urban area    249 non-null    object\n",
      " 1   Country              249 non-null    object\n",
      " 2   Population           249 non-null    int64 \n",
      " 3   Land area (in sqKm)  249 non-null    int64 \n",
      "dtypes: int64(2), object(2)\n",
      "memory usage: 9.7+ KB\n"
     ]
    }
   ],
   "source": [
    "df.info()"
   ]
  },
  {
   "cell_type": "code",
   "execution_count": 27,
   "metadata": {
    "scrolled": true
   },
   "outputs": [
    {
     "data": {
      "text/plain": [
       "array(['Buenos Aires', 'Melbourne', 'Sydney', 'Brisbane', 'Perth',\n",
       "       'Adelaide', 'Gold Coast', 'Vienna', 'Baku/Sumqayit', 'Brussels',\n",
       "       'Antwerp', 'Sao Paulo', 'Rio de Janeiro', 'Belo Horizonte',\n",
       "       'Curitiba', 'Brasilia', 'Fortaleza', 'Porto Alegre', 'Campinas',\n",
       "       'Goiania', 'Recife', 'Phnom Penh', 'Montreal.', 'Toronto',\n",
       "       'Vancouver', 'Edmonton', 'Calgary', 'Quebec', 'Ottawa/Hull',\n",
       "       'Winnipeg', 'St. Catharines', 'Santiago', 'Beijing', 'Shanghai',\n",
       "       'Shenzhen', 'Shenyang', 'Tianjin', 'Dalian', 'Bogota', 'Kinshasa',\n",
       "       'Lumumbashi', 'Copenhagen', 'Quito', 'Cairo', 'Helsinki', 'Paris',\n",
       "       'Marseille', 'Bordeaux', 'Lyon', 'Toulouse', 'Nice', 'Toulon',\n",
       "       'Avignon', 'Valenciennes', 'Douai/Lens', 'Nantes', 'Lille', 'Pau',\n",
       "       'Tours', 'Bethune', 'Essen/Düsseldorf', 'Berlin', 'Frankfurt',\n",
       "       'Hamburg', 'Cologne/Bonn', 'Munich', 'Stuttgart', 'Aachen',\n",
       "       'Accra', 'Athens', 'Budapest', 'Delhi', 'Hyderabad', 'Bangalore',\n",
       "       'Kolkata', 'Mumbai', 'Chennai', 'Jakarta', 'Tehran', 'Baghdad',\n",
       "       'Dublin', 'Tel Aviv', 'Milan', 'Rome', 'Naples', 'Turin',\n",
       "       'Tokyo/Yokohama', 'Nagoya', 'Osaka/Kobe/Kyoto', 'Fukuoka',\n",
       "       'Sapporo', 'Kuwait', 'Beirut', 'Kuala Lumpur', 'Mexico City',\n",
       "       'Guadalajara', 'Monterey', 'Rotterdam', 'Auckland', 'Lagos',\n",
       "       'Lahore', 'Karachi', 'Lima', 'Manila', 'Katowice', 'Warsaw',\n",
       "       'Lisbon', 'Porto', 'San Juan', 'Aguadilla', 'Moscow',\n",
       "       'St Petersburg', 'Nizhni Novgorod', 'Arabia', 'Riyadh', 'Jeddah',\n",
       "       'Singapore', 'Johannesburg/East Rand', 'Durban', 'Cape Town',\n",
       "       'Pretoria', 'Vereeniging', 'Port Elizabeth', 'Seoul/Incheon',\n",
       "       'Madrid', 'Barcelona', 'Khartoum', 'Stockholm', 'Taichung',\n",
       "       'Taipei', 'Bangkok', 'Istanbul', 'Ankara', 'Abu Dhabi', 'Dubai',\n",
       "       'London', 'Birmingham', 'Manchester', 'Leeds/Bradford', 'Glasgow',\n",
       "       'Donetsk', 'New York Metro', 'Chicago', 'Atlanta', 'Philadelphia',\n",
       "       'Boston', 'Los Angeles', 'Dallas/Fort Worth', 'Houston', 'Detroit',\n",
       "       'Washington', 'Miami', 'Seattle', 'Minneapolis/St. Paul',\n",
       "       'Pittsburgh', 'St. Louis', 'Tampa//St. Petersburg', 'Phoenix/Mesa',\n",
       "       'San Diego', 'Baltimore', 'Cincinnati', 'Cleveland', 'Kansas City',\n",
       "       'Indianapolis', 'San Francisco//Oakland', 'Virginia Beach',\n",
       "       'Providence', 'Denver', 'Milwaukee', 'Portland', 'Hartford',\n",
       "       'Bridgeport//Stamford', 'Orlando', 'Riverside/San Bernardino',\n",
       "       'Richmond', 'Charlotte', 'Nashville', 'Jacksonville',\n",
       "       'San Antonio', 'Memphis', 'Columbus', 'Louisville', 'Sacramento',\n",
       "       'Buffalo', 'Knoxville', 'Dayton', 'Oklahoma City', 'Raleigh',\n",
       "       'Austin', 'McAllen', 'Springfield', 'Akron', 'Rochester', 'Tucson',\n",
       "       'Chattanooga', 'Allentown/Bethlehem', 'Barnstable Town',\n",
       "       'Las Vegas', 'New Haven', 'Albany', 'Baton Rouge',\n",
       "       'Sarasota//Bradenton', 'Columbia', 'Poughkeepsie', 'Tulsa',\n",
       "       'San Jose', 'Grand Rapids', 'Winston/Salem', 'Worcester',\n",
       "       'Augusta', 'Flint', 'Charleston', 'Salt Lake City', 'Youngstown',\n",
       "       'Greenville', 'Omaha', 'Albuquerque', 'Palm Bay', 'El Paso',\n",
       "       'Pensacola', 'Hickory', 'Mobile', 'Harrisburg', 'Asheville',\n",
       "       'Little Rock', 'Toledo', 'Lancaster', 'New Orleans',\n",
       "       'Colorado Springs', 'Cape Coral', 'Ogden', 'Syracuse', 'Wichita',\n",
       "       'Concord', 'Port St Lucie', 'Fayetteville', 'Jackson', 'Scranton',\n",
       "       'Huntsville', 'Durham', 'South Bend', 'Shreveport', 'Honolulu',\n",
       "       'Bonita Springs / Naples', 'Canton', 'Spokane', 'Tashkent',\n",
       "       'Ho Chi Minh City', 'Harare'], dtype=object)"
      ]
     },
     "execution_count": 27,
     "metadata": {},
     "output_type": "execute_result"
    }
   ],
   "source": [
    "df[\"City / Urban area\"].unique()"
   ]
  },
  {
   "cell_type": "code",
   "execution_count": 30,
   "metadata": {},
   "outputs": [
    {
     "data": {
      "text/plain": [
       "Baku/Sumqayit     1\n",
       "Berlin            1\n",
       "Albuquerque       1\n",
       "Portland          1\n",
       "Shenzhen          1\n",
       "                 ..\n",
       "Fortaleza         1\n",
       "Hamburg           1\n",
       "Little Rock       1\n",
       "Belo Horizonte    1\n",
       "Salt Lake City    1\n",
       "Name: City / Urban area, Length: 249, dtype: int64"
      ]
     },
     "execution_count": 30,
     "metadata": {},
     "output_type": "execute_result"
    }
   ],
   "source": [
    "df[\"City / Urban area\"].value_counts() "
   ]
  },
  {
   "cell_type": "code",
   "execution_count": 24,
   "metadata": {},
   "outputs": [
    {
     "data": {
      "text/plain": [
       "0       Argentina\n",
       "1       Australia\n",
       "2       Australia\n",
       "3       Australia\n",
       "4       Australia\n",
       "          ...    \n",
       "245           USA\n",
       "246           USA\n",
       "247    Uzbekistan\n",
       "248       Vietnam\n",
       "249      Zimbabwe\n",
       "Name: Country, Length: 249, dtype: object"
      ]
     },
     "execution_count": 24,
     "metadata": {},
     "output_type": "execute_result"
    }
   ],
   "source": [
    "df[\"Country\"]"
   ]
  },
  {
   "cell_type": "code",
   "execution_count": 25,
   "metadata": {},
   "outputs": [
    {
     "data": {
      "text/plain": [
       "array(['Argentina', 'Australia', 'Austria', 'Azerbaijan', 'Belgium',\n",
       "       'Brazil', 'Cambodia', 'Canada', 'Chile', 'China', 'Colombia',\n",
       "       'Congo', 'Denmark', 'Ecuador', 'Egypt', 'Finland', 'France',\n",
       "       'Germany', 'Ghana', 'Greece', 'Hungary', 'India', 'Indonesia',\n",
       "       'Iran', 'Iraq', 'Ireland', 'Israel', 'Italy', 'Japan', 'Kuwait',\n",
       "       'Lebanon', 'Malaysia', 'Mexico', 'Netherlands', 'New Zealand',\n",
       "       'Nigeria', 'Pakistan', 'Peru', 'Philippines', 'Poland', 'Portugal',\n",
       "       'Puerto Rico', 'Russia', 'Saudi', 'Saudi Arabia', 'Singapore',\n",
       "       'South Africa', 'South Korea', 'Spain', 'Sudan', 'Sweden',\n",
       "       'Taiwan', 'Thailand', 'Turkey', 'UAE', 'UK', 'Ukraine', 'USA',\n",
       "       'Uzbekistan', 'Vietnam', 'Zimbabwe'], dtype=object)"
      ]
     },
     "execution_count": 25,
     "metadata": {},
     "output_type": "execute_result"
    }
   ],
   "source": [
    "df[\"Country\"].unique()"
   ]
  },
  {
   "cell_type": "code",
   "execution_count": 26,
   "metadata": {},
   "outputs": [
    {
     "data": {
      "text/plain": [
       "USA           105\n",
       "France         15\n",
       "Brazil         10\n",
       "Canada          9\n",
       "Germany         8\n",
       "             ... \n",
       "Hungary         1\n",
       "Azerbaijan      1\n",
       "Kuwait          1\n",
       "Colombia        1\n",
       "Denmark         1\n",
       "Name: Country, Length: 61, dtype: int64"
      ]
     },
     "execution_count": 26,
     "metadata": {},
     "output_type": "execute_result"
    }
   ],
   "source": [
    "df[\"Country\"].value_counts()"
   ]
  },
  {
   "cell_type": "code",
   "execution_count": null,
   "metadata": {},
   "outputs": [],
   "source": [
    "#2번 인구수/면적 >10000이 넘는 도시가 몇개인지 구하시오"
   ]
  },
  {
   "cell_type": "code",
   "execution_count": 31,
   "metadata": {},
   "outputs": [
    {
     "data": {
      "text/html": [
       "<div>\n",
       "<style scoped>\n",
       "    .dataframe tbody tr th:only-of-type {\n",
       "        vertical-align: middle;\n",
       "    }\n",
       "\n",
       "    .dataframe tbody tr th {\n",
       "        vertical-align: top;\n",
       "    }\n",
       "\n",
       "    .dataframe thead th {\n",
       "        text-align: right;\n",
       "    }\n",
       "</style>\n",
       "<table border=\"1\" class=\"dataframe\">\n",
       "  <thead>\n",
       "    <tr style=\"text-align: right;\">\n",
       "      <th></th>\n",
       "      <th>City / Urban area</th>\n",
       "      <th>Country</th>\n",
       "      <th>Population</th>\n",
       "      <th>Land area (in sqKm)</th>\n",
       "    </tr>\n",
       "  </thead>\n",
       "  <tbody>\n",
       "    <tr>\n",
       "      <th>0</th>\n",
       "      <td>Buenos Aires</td>\n",
       "      <td>Argentina</td>\n",
       "      <td>11200000</td>\n",
       "      <td>2266</td>\n",
       "    </tr>\n",
       "    <tr>\n",
       "      <th>1</th>\n",
       "      <td>Melbourne</td>\n",
       "      <td>Australia</td>\n",
       "      <td>3162000</td>\n",
       "      <td>2080</td>\n",
       "    </tr>\n",
       "    <tr>\n",
       "      <th>2</th>\n",
       "      <td>Sydney</td>\n",
       "      <td>Australia</td>\n",
       "      <td>3502000</td>\n",
       "      <td>1687</td>\n",
       "    </tr>\n",
       "    <tr>\n",
       "      <th>3</th>\n",
       "      <td>Brisbane</td>\n",
       "      <td>Australia</td>\n",
       "      <td>1508000</td>\n",
       "      <td>1603</td>\n",
       "    </tr>\n",
       "    <tr>\n",
       "      <th>4</th>\n",
       "      <td>Perth</td>\n",
       "      <td>Australia</td>\n",
       "      <td>1177000</td>\n",
       "      <td>964</td>\n",
       "    </tr>\n",
       "    <tr>\n",
       "      <th>...</th>\n",
       "      <td>...</td>\n",
       "      <td>...</td>\n",
       "      <td>...</td>\n",
       "      <td>...</td>\n",
       "    </tr>\n",
       "    <tr>\n",
       "      <th>245</th>\n",
       "      <td>Canton</td>\n",
       "      <td>USA</td>\n",
       "      <td>267000</td>\n",
       "      <td>372</td>\n",
       "    </tr>\n",
       "    <tr>\n",
       "      <th>246</th>\n",
       "      <td>Spokane</td>\n",
       "      <td>USA</td>\n",
       "      <td>335000</td>\n",
       "      <td>371</td>\n",
       "    </tr>\n",
       "    <tr>\n",
       "      <th>247</th>\n",
       "      <td>Tashkent</td>\n",
       "      <td>Uzbekistan</td>\n",
       "      <td>2200000</td>\n",
       "      <td>531</td>\n",
       "    </tr>\n",
       "    <tr>\n",
       "      <th>248</th>\n",
       "      <td>Ho Chi Minh City</td>\n",
       "      <td>Vietnam</td>\n",
       "      <td>4900000</td>\n",
       "      <td>518</td>\n",
       "    </tr>\n",
       "    <tr>\n",
       "      <th>249</th>\n",
       "      <td>Harare</td>\n",
       "      <td>Zimbabwe</td>\n",
       "      <td>1750000</td>\n",
       "      <td>712</td>\n",
       "    </tr>\n",
       "  </tbody>\n",
       "</table>\n",
       "<p>249 rows × 4 columns</p>\n",
       "</div>"
      ],
      "text/plain": [
       "    City / Urban area     Country  Population  Land area (in sqKm)\n",
       "0        Buenos Aires   Argentina    11200000                 2266\n",
       "1           Melbourne   Australia     3162000                 2080\n",
       "2              Sydney   Australia     3502000                 1687\n",
       "3            Brisbane   Australia     1508000                 1603\n",
       "4               Perth   Australia     1177000                  964\n",
       "..                ...         ...         ...                  ...\n",
       "245            Canton         USA      267000                  372\n",
       "246           Spokane         USA      335000                  371\n",
       "247          Tashkent  Uzbekistan     2200000                  531\n",
       "248  Ho Chi Minh City     Vietnam     4900000                  518\n",
       "249            Harare    Zimbabwe     1750000                  712\n",
       "\n",
       "[249 rows x 4 columns]"
      ]
     },
     "execution_count": 31,
     "metadata": {},
     "output_type": "execute_result"
    }
   ],
   "source": [
    "df"
   ]
  },
  {
   "cell_type": "code",
   "execution_count": 34,
   "metadata": {
    "scrolled": true
   },
   "outputs": [
    {
     "data": {
      "text/plain": [
       "0      4942.630185\n",
       "1      1520.192308\n",
       "2      2075.874333\n",
       "3       940.736120\n",
       "4      1220.954357\n",
       "          ...     \n",
       "245     717.741935\n",
       "246     902.964960\n",
       "247    4143.126177\n",
       "248    9459.459459\n",
       "249    2457.865169\n",
       "Length: 249, dtype: float64"
      ]
     },
     "execution_count": 34,
     "metadata": {},
     "output_type": "execute_result"
    }
   ],
   "source": [
    "df[\"Population\"]/df[\"Land area (in sqKm)\"]"
   ]
  },
  {
   "cell_type": "code",
   "execution_count": 35,
   "metadata": {
    "scrolled": true
   },
   "outputs": [
    {
     "data": {
      "text/plain": [
       "0      False\n",
       "1      False\n",
       "2      False\n",
       "3      False\n",
       "4      False\n",
       "       ...  \n",
       "245    False\n",
       "246    False\n",
       "247    False\n",
       "248    False\n",
       "249    False\n",
       "Length: 249, dtype: bool"
      ]
     },
     "execution_count": 35,
     "metadata": {},
     "output_type": "execute_result"
    }
   ],
   "source": [
    "df[\"Population\"]/df[\"Land area (in sqKm)\"]>10000"
   ]
  },
  {
   "cell_type": "code",
   "execution_count": 39,
   "metadata": {
    "scrolled": true
   },
   "outputs": [],
   "source": [
    "adf = df[\"Population\"]/df[\"Land area (in sqKm)\"]"
   ]
  },
  {
   "cell_type": "code",
   "execution_count": 40,
   "metadata": {
    "scrolled": false
   },
   "outputs": [
    {
     "data": {
      "text/plain": [
       "0      4942.630185\n",
       "1      1520.192308\n",
       "2      2075.874333\n",
       "3       940.736120\n",
       "4      1220.954357\n",
       "          ...     \n",
       "245     717.741935\n",
       "246     902.964960\n",
       "247    4143.126177\n",
       "248    9459.459459\n",
       "249    2457.865169\n",
       "Length: 249, dtype: float64"
      ]
     },
     "execution_count": 40,
     "metadata": {},
     "output_type": "execute_result"
    }
   ],
   "source": [
    "adf"
   ]
  },
  {
   "cell_type": "code",
   "execution_count": 43,
   "metadata": {
    "scrolled": true
   },
   "outputs": [
    {
     "data": {
      "text/plain": [
       "75     29648.760331\n",
       "74     23917.137476\n",
       "101    18918.918919\n",
       "99     18157.181572\n",
       "34     17167.381974\n",
       "           ...     \n",
       "195      458.055925\n",
       "224      414.179104\n",
       "57       402.222222\n",
       "221      344.322344\n",
       "197      329.284750\n",
       "Length: 249, dtype: float64"
      ]
     },
     "execution_count": 43,
     "metadata": {},
     "output_type": "execute_result"
    }
   ],
   "source": [
    "adf.sort_values(ascending=False)"
   ]
  },
  {
   "cell_type": "code",
   "execution_count": 45,
   "metadata": {
    "scrolled": true
   },
   "outputs": [
    {
     "data": {
      "text/plain": [
       "(249,)"
      ]
     },
     "execution_count": 45,
     "metadata": {},
     "output_type": "execute_result"
    }
   ],
   "source": [
    "adf.shape"
   ]
  },
  {
   "cell_type": "code",
   "execution_count": 76,
   "metadata": {
    "scrolled": true
   },
   "outputs": [],
   "source": [
    "hdf = pd.DataFrame(adf)"
   ]
  },
  {
   "cell_type": "code",
   "execution_count": 62,
   "metadata": {
    "scrolled": true
   },
   "outputs": [
    {
     "data": {
      "text/html": [
       "<div>\n",
       "<style scoped>\n",
       "    .dataframe tbody tr th:only-of-type {\n",
       "        vertical-align: middle;\n",
       "    }\n",
       "\n",
       "    .dataframe tbody tr th {\n",
       "        vertical-align: top;\n",
       "    }\n",
       "\n",
       "    .dataframe thead th {\n",
       "        text-align: right;\n",
       "    }\n",
       "</style>\n",
       "<table border=\"1\" class=\"dataframe\">\n",
       "  <thead>\n",
       "    <tr style=\"text-align: right;\">\n",
       "      <th></th>\n",
       "      <th>0</th>\n",
       "    </tr>\n",
       "  </thead>\n",
       "  <tbody>\n",
       "    <tr>\n",
       "      <th>0</th>\n",
       "      <td>4942.630185</td>\n",
       "    </tr>\n",
       "    <tr>\n",
       "      <th>1</th>\n",
       "      <td>1520.192308</td>\n",
       "    </tr>\n",
       "    <tr>\n",
       "      <th>2</th>\n",
       "      <td>2075.874333</td>\n",
       "    </tr>\n",
       "    <tr>\n",
       "      <th>3</th>\n",
       "      <td>940.736120</td>\n",
       "    </tr>\n",
       "    <tr>\n",
       "      <th>4</th>\n",
       "      <td>1220.954357</td>\n",
       "    </tr>\n",
       "    <tr>\n",
       "      <th>...</th>\n",
       "      <td>...</td>\n",
       "    </tr>\n",
       "    <tr>\n",
       "      <th>245</th>\n",
       "      <td>717.741935</td>\n",
       "    </tr>\n",
       "    <tr>\n",
       "      <th>246</th>\n",
       "      <td>902.964960</td>\n",
       "    </tr>\n",
       "    <tr>\n",
       "      <th>247</th>\n",
       "      <td>4143.126177</td>\n",
       "    </tr>\n",
       "    <tr>\n",
       "      <th>248</th>\n",
       "      <td>9459.459459</td>\n",
       "    </tr>\n",
       "    <tr>\n",
       "      <th>249</th>\n",
       "      <td>2457.865169</td>\n",
       "    </tr>\n",
       "  </tbody>\n",
       "</table>\n",
       "<p>249 rows × 1 columns</p>\n",
       "</div>"
      ],
      "text/plain": [
       "               0\n",
       "0    4942.630185\n",
       "1    1520.192308\n",
       "2    2075.874333\n",
       "3     940.736120\n",
       "4    1220.954357\n",
       "..           ...\n",
       "245   717.741935\n",
       "246   902.964960\n",
       "247  4143.126177\n",
       "248  9459.459459\n",
       "249  2457.865169\n",
       "\n",
       "[249 rows x 1 columns]"
      ]
     },
     "execution_count": 62,
     "metadata": {},
     "output_type": "execute_result"
    }
   ],
   "source": [
    "hdf"
   ]
  },
  {
   "cell_type": "code",
   "execution_count": 68,
   "metadata": {},
   "outputs": [],
   "source": [
    "df[\"a\"] = adf>10000"
   ]
  },
  {
   "cell_type": "code",
   "execution_count": 69,
   "metadata": {
    "scrolled": true
   },
   "outputs": [
    {
     "data": {
      "text/html": [
       "<div>\n",
       "<style scoped>\n",
       "    .dataframe tbody tr th:only-of-type {\n",
       "        vertical-align: middle;\n",
       "    }\n",
       "\n",
       "    .dataframe tbody tr th {\n",
       "        vertical-align: top;\n",
       "    }\n",
       "\n",
       "    .dataframe thead th {\n",
       "        text-align: right;\n",
       "    }\n",
       "</style>\n",
       "<table border=\"1\" class=\"dataframe\">\n",
       "  <thead>\n",
       "    <tr style=\"text-align: right;\">\n",
       "      <th></th>\n",
       "      <th>City / Urban area</th>\n",
       "      <th>Country</th>\n",
       "      <th>Population</th>\n",
       "      <th>Land area (in sqKm)</th>\n",
       "      <th>a</th>\n",
       "    </tr>\n",
       "  </thead>\n",
       "  <tbody>\n",
       "    <tr>\n",
       "      <th>0</th>\n",
       "      <td>Buenos Aires</td>\n",
       "      <td>Argentina</td>\n",
       "      <td>11200000</td>\n",
       "      <td>2266</td>\n",
       "      <td>False</td>\n",
       "    </tr>\n",
       "    <tr>\n",
       "      <th>1</th>\n",
       "      <td>Melbourne</td>\n",
       "      <td>Australia</td>\n",
       "      <td>3162000</td>\n",
       "      <td>2080</td>\n",
       "      <td>False</td>\n",
       "    </tr>\n",
       "    <tr>\n",
       "      <th>2</th>\n",
       "      <td>Sydney</td>\n",
       "      <td>Australia</td>\n",
       "      <td>3502000</td>\n",
       "      <td>1687</td>\n",
       "      <td>False</td>\n",
       "    </tr>\n",
       "    <tr>\n",
       "      <th>3</th>\n",
       "      <td>Brisbane</td>\n",
       "      <td>Australia</td>\n",
       "      <td>1508000</td>\n",
       "      <td>1603</td>\n",
       "      <td>False</td>\n",
       "    </tr>\n",
       "    <tr>\n",
       "      <th>4</th>\n",
       "      <td>Perth</td>\n",
       "      <td>Australia</td>\n",
       "      <td>1177000</td>\n",
       "      <td>964</td>\n",
       "      <td>False</td>\n",
       "    </tr>\n",
       "    <tr>\n",
       "      <th>...</th>\n",
       "      <td>...</td>\n",
       "      <td>...</td>\n",
       "      <td>...</td>\n",
       "      <td>...</td>\n",
       "      <td>...</td>\n",
       "    </tr>\n",
       "    <tr>\n",
       "      <th>245</th>\n",
       "      <td>Canton</td>\n",
       "      <td>USA</td>\n",
       "      <td>267000</td>\n",
       "      <td>372</td>\n",
       "      <td>False</td>\n",
       "    </tr>\n",
       "    <tr>\n",
       "      <th>246</th>\n",
       "      <td>Spokane</td>\n",
       "      <td>USA</td>\n",
       "      <td>335000</td>\n",
       "      <td>371</td>\n",
       "      <td>False</td>\n",
       "    </tr>\n",
       "    <tr>\n",
       "      <th>247</th>\n",
       "      <td>Tashkent</td>\n",
       "      <td>Uzbekistan</td>\n",
       "      <td>2200000</td>\n",
       "      <td>531</td>\n",
       "      <td>False</td>\n",
       "    </tr>\n",
       "    <tr>\n",
       "      <th>248</th>\n",
       "      <td>Ho Chi Minh City</td>\n",
       "      <td>Vietnam</td>\n",
       "      <td>4900000</td>\n",
       "      <td>518</td>\n",
       "      <td>False</td>\n",
       "    </tr>\n",
       "    <tr>\n",
       "      <th>249</th>\n",
       "      <td>Harare</td>\n",
       "      <td>Zimbabwe</td>\n",
       "      <td>1750000</td>\n",
       "      <td>712</td>\n",
       "      <td>False</td>\n",
       "    </tr>\n",
       "  </tbody>\n",
       "</table>\n",
       "<p>249 rows × 5 columns</p>\n",
       "</div>"
      ],
      "text/plain": [
       "    City / Urban area     Country  Population  Land area (in sqKm)      a\n",
       "0        Buenos Aires   Argentina    11200000                 2266  False\n",
       "1           Melbourne   Australia     3162000                 2080  False\n",
       "2              Sydney   Australia     3502000                 1687  False\n",
       "3            Brisbane   Australia     1508000                 1603  False\n",
       "4               Perth   Australia     1177000                  964  False\n",
       "..                ...         ...         ...                  ...    ...\n",
       "245            Canton         USA      267000                  372  False\n",
       "246           Spokane         USA      335000                  371  False\n",
       "247          Tashkent  Uzbekistan     2200000                  531  False\n",
       "248  Ho Chi Minh City     Vietnam     4900000                  518  False\n",
       "249            Harare    Zimbabwe     1750000                  712  False\n",
       "\n",
       "[249 rows x 5 columns]"
      ]
     },
     "execution_count": 69,
     "metadata": {},
     "output_type": "execute_result"
    }
   ],
   "source": [
    "df"
   ]
  },
  {
   "cell_type": "code",
   "execution_count": 74,
   "metadata": {
    "scrolled": true
   },
   "outputs": [
    {
     "data": {
      "text/plain": [
       "False    230\n",
       "True      19\n",
       "Name: a, dtype: int64"
      ]
     },
     "execution_count": 74,
     "metadata": {},
     "output_type": "execute_result"
    }
   ],
   "source": [
    "df[\"a\"].value_counts()"
   ]
  },
  {
   "cell_type": "code",
   "execution_count": 82,
   "metadata": {},
   "outputs": [
    {
     "data": {
      "text/plain": [
       "False    230\n",
       "True      19\n",
       "dtype: int64"
      ]
     },
     "execution_count": 82,
     "metadata": {},
     "output_type": "execute_result"
    }
   ],
   "source": [
    "(adf>10000).value_counts()"
   ]
  },
  {
   "cell_type": "code",
   "execution_count": 83,
   "metadata": {},
   "outputs": [],
   "source": [
    "#해설"
   ]
  },
  {
   "cell_type": "code",
   "execution_count": 84,
   "metadata": {},
   "outputs": [
    {
     "data": {
      "text/html": [
       "<div>\n",
       "<style scoped>\n",
       "    .dataframe tbody tr th:only-of-type {\n",
       "        vertical-align: middle;\n",
       "    }\n",
       "\n",
       "    .dataframe tbody tr th {\n",
       "        vertical-align: top;\n",
       "    }\n",
       "\n",
       "    .dataframe thead th {\n",
       "        text-align: right;\n",
       "    }\n",
       "</style>\n",
       "<table border=\"1\" class=\"dataframe\">\n",
       "  <thead>\n",
       "    <tr style=\"text-align: right;\">\n",
       "      <th></th>\n",
       "      <th>City / Urban area</th>\n",
       "      <th>Country</th>\n",
       "      <th>Population</th>\n",
       "      <th>Land area (in sqKm)</th>\n",
       "      <th>a</th>\n",
       "      <th>Density</th>\n",
       "    </tr>\n",
       "  </thead>\n",
       "  <tbody>\n",
       "    <tr>\n",
       "      <th>0</th>\n",
       "      <td>Buenos Aires</td>\n",
       "      <td>Argentina</td>\n",
       "      <td>11200000</td>\n",
       "      <td>2266</td>\n",
       "      <td>False</td>\n",
       "      <td>4942.630185</td>\n",
       "    </tr>\n",
       "    <tr>\n",
       "      <th>1</th>\n",
       "      <td>Melbourne</td>\n",
       "      <td>Australia</td>\n",
       "      <td>3162000</td>\n",
       "      <td>2080</td>\n",
       "      <td>False</td>\n",
       "      <td>1520.192308</td>\n",
       "    </tr>\n",
       "    <tr>\n",
       "      <th>2</th>\n",
       "      <td>Sydney</td>\n",
       "      <td>Australia</td>\n",
       "      <td>3502000</td>\n",
       "      <td>1687</td>\n",
       "      <td>False</td>\n",
       "      <td>2075.874333</td>\n",
       "    </tr>\n",
       "    <tr>\n",
       "      <th>3</th>\n",
       "      <td>Brisbane</td>\n",
       "      <td>Australia</td>\n",
       "      <td>1508000</td>\n",
       "      <td>1603</td>\n",
       "      <td>False</td>\n",
       "      <td>940.736120</td>\n",
       "    </tr>\n",
       "    <tr>\n",
       "      <th>4</th>\n",
       "      <td>Perth</td>\n",
       "      <td>Australia</td>\n",
       "      <td>1177000</td>\n",
       "      <td>964</td>\n",
       "      <td>False</td>\n",
       "      <td>1220.954357</td>\n",
       "    </tr>\n",
       "    <tr>\n",
       "      <th>...</th>\n",
       "      <td>...</td>\n",
       "      <td>...</td>\n",
       "      <td>...</td>\n",
       "      <td>...</td>\n",
       "      <td>...</td>\n",
       "      <td>...</td>\n",
       "    </tr>\n",
       "    <tr>\n",
       "      <th>245</th>\n",
       "      <td>Canton</td>\n",
       "      <td>USA</td>\n",
       "      <td>267000</td>\n",
       "      <td>372</td>\n",
       "      <td>False</td>\n",
       "      <td>717.741935</td>\n",
       "    </tr>\n",
       "    <tr>\n",
       "      <th>246</th>\n",
       "      <td>Spokane</td>\n",
       "      <td>USA</td>\n",
       "      <td>335000</td>\n",
       "      <td>371</td>\n",
       "      <td>False</td>\n",
       "      <td>902.964960</td>\n",
       "    </tr>\n",
       "    <tr>\n",
       "      <th>247</th>\n",
       "      <td>Tashkent</td>\n",
       "      <td>Uzbekistan</td>\n",
       "      <td>2200000</td>\n",
       "      <td>531</td>\n",
       "      <td>False</td>\n",
       "      <td>4143.126177</td>\n",
       "    </tr>\n",
       "    <tr>\n",
       "      <th>248</th>\n",
       "      <td>Ho Chi Minh City</td>\n",
       "      <td>Vietnam</td>\n",
       "      <td>4900000</td>\n",
       "      <td>518</td>\n",
       "      <td>False</td>\n",
       "      <td>9459.459459</td>\n",
       "    </tr>\n",
       "    <tr>\n",
       "      <th>249</th>\n",
       "      <td>Harare</td>\n",
       "      <td>Zimbabwe</td>\n",
       "      <td>1750000</td>\n",
       "      <td>712</td>\n",
       "      <td>False</td>\n",
       "      <td>2457.865169</td>\n",
       "    </tr>\n",
       "  </tbody>\n",
       "</table>\n",
       "<p>249 rows × 6 columns</p>\n",
       "</div>"
      ],
      "text/plain": [
       "    City / Urban area     Country  Population  Land area (in sqKm)      a  \\\n",
       "0        Buenos Aires   Argentina    11200000                 2266  False   \n",
       "1           Melbourne   Australia     3162000                 2080  False   \n",
       "2              Sydney   Australia     3502000                 1687  False   \n",
       "3            Brisbane   Australia     1508000                 1603  False   \n",
       "4               Perth   Australia     1177000                  964  False   \n",
       "..                ...         ...         ...                  ...    ...   \n",
       "245            Canton         USA      267000                  372  False   \n",
       "246           Spokane         USA      335000                  371  False   \n",
       "247          Tashkent  Uzbekistan     2200000                  531  False   \n",
       "248  Ho Chi Minh City     Vietnam     4900000                  518  False   \n",
       "249            Harare    Zimbabwe     1750000                  712  False   \n",
       "\n",
       "         Density  \n",
       "0    4942.630185  \n",
       "1    1520.192308  \n",
       "2    2075.874333  \n",
       "3     940.736120  \n",
       "4    1220.954357  \n",
       "..           ...  \n",
       "245   717.741935  \n",
       "246   902.964960  \n",
       "247  4143.126177  \n",
       "248  9459.459459  \n",
       "249  2457.865169  \n",
       "\n",
       "[249 rows x 6 columns]"
      ]
     },
     "execution_count": 84,
     "metadata": {},
     "output_type": "execute_result"
    }
   ],
   "source": [
    "df[\"Density\"] = df[\"Population\"] / df[\"Land area (in sqKm)\"]\n",
    "df"
   ]
  },
  {
   "cell_type": "code",
   "execution_count": 86,
   "metadata": {
    "scrolled": true
   },
   "outputs": [
    {
     "data": {
      "text/html": [
       "<div>\n",
       "<style scoped>\n",
       "    .dataframe tbody tr th:only-of-type {\n",
       "        vertical-align: middle;\n",
       "    }\n",
       "\n",
       "    .dataframe tbody tr th {\n",
       "        vertical-align: top;\n",
       "    }\n",
       "\n",
       "    .dataframe thead th {\n",
       "        text-align: right;\n",
       "    }\n",
       "</style>\n",
       "<table border=\"1\" class=\"dataframe\">\n",
       "  <thead>\n",
       "    <tr style=\"text-align: right;\">\n",
       "      <th></th>\n",
       "      <th>City / Urban area</th>\n",
       "      <th>Country</th>\n",
       "      <th>Population</th>\n",
       "      <th>Land area (in sqKm)</th>\n",
       "      <th>a</th>\n",
       "      <th>Density</th>\n",
       "    </tr>\n",
       "  </thead>\n",
       "  <tbody>\n",
       "    <tr>\n",
       "      <th>32</th>\n",
       "      <td>Beijing</td>\n",
       "      <td>China</td>\n",
       "      <td>8614000</td>\n",
       "      <td>748</td>\n",
       "      <td>True</td>\n",
       "      <td>11516.042781</td>\n",
       "    </tr>\n",
       "    <tr>\n",
       "      <th>33</th>\n",
       "      <td>Shanghai</td>\n",
       "      <td>China</td>\n",
       "      <td>10000000</td>\n",
       "      <td>746</td>\n",
       "      <td>True</td>\n",
       "      <td>13404.825737</td>\n",
       "    </tr>\n",
       "    <tr>\n",
       "      <th>34</th>\n",
       "      <td>Shenzhen</td>\n",
       "      <td>China</td>\n",
       "      <td>8000000</td>\n",
       "      <td>466</td>\n",
       "      <td>True</td>\n",
       "      <td>17167.381974</td>\n",
       "    </tr>\n",
       "    <tr>\n",
       "      <th>36</th>\n",
       "      <td>Tianjin</td>\n",
       "      <td>China</td>\n",
       "      <td>4750000</td>\n",
       "      <td>453</td>\n",
       "      <td>True</td>\n",
       "      <td>10485.651214</td>\n",
       "    </tr>\n",
       "    <tr>\n",
       "      <th>38</th>\n",
       "      <td>Bogota</td>\n",
       "      <td>Colombia</td>\n",
       "      <td>7000000</td>\n",
       "      <td>518</td>\n",
       "      <td>True</td>\n",
       "      <td>13513.513514</td>\n",
       "    </tr>\n",
       "    <tr>\n",
       "      <th>39</th>\n",
       "      <td>Kinshasa</td>\n",
       "      <td>Congo</td>\n",
       "      <td>5000000</td>\n",
       "      <td>469</td>\n",
       "      <td>True</td>\n",
       "      <td>10660.980810</td>\n",
       "    </tr>\n",
       "    <tr>\n",
       "      <th>71</th>\n",
       "      <td>Delhi</td>\n",
       "      <td>India</td>\n",
       "      <td>14300000</td>\n",
       "      <td>1295</td>\n",
       "      <td>True</td>\n",
       "      <td>11042.471042</td>\n",
       "    </tr>\n",
       "    <tr>\n",
       "      <th>73</th>\n",
       "      <td>Bangalore</td>\n",
       "      <td>India</td>\n",
       "      <td>5400000</td>\n",
       "      <td>534</td>\n",
       "      <td>True</td>\n",
       "      <td>10112.359551</td>\n",
       "    </tr>\n",
       "    <tr>\n",
       "      <th>74</th>\n",
       "      <td>Kolkata</td>\n",
       "      <td>India</td>\n",
       "      <td>12700000</td>\n",
       "      <td>531</td>\n",
       "      <td>True</td>\n",
       "      <td>23917.137476</td>\n",
       "    </tr>\n",
       "    <tr>\n",
       "      <th>75</th>\n",
       "      <td>Mumbai</td>\n",
       "      <td>India</td>\n",
       "      <td>14350000</td>\n",
       "      <td>484</td>\n",
       "      <td>True</td>\n",
       "      <td>29648.760331</td>\n",
       "    </tr>\n",
       "    <tr>\n",
       "      <th>76</th>\n",
       "      <td>Chennai</td>\n",
       "      <td>India</td>\n",
       "      <td>5950000</td>\n",
       "      <td>414</td>\n",
       "      <td>True</td>\n",
       "      <td>14371.980676</td>\n",
       "    </tr>\n",
       "    <tr>\n",
       "      <th>77</th>\n",
       "      <td>Jakarta</td>\n",
       "      <td>Indonesia</td>\n",
       "      <td>14250000</td>\n",
       "      <td>1360</td>\n",
       "      <td>True</td>\n",
       "      <td>10477.941176</td>\n",
       "    </tr>\n",
       "    <tr>\n",
       "      <th>78</th>\n",
       "      <td>Tehran</td>\n",
       "      <td>Iran</td>\n",
       "      <td>7250000</td>\n",
       "      <td>686</td>\n",
       "      <td>True</td>\n",
       "      <td>10568.513120</td>\n",
       "    </tr>\n",
       "    <tr>\n",
       "      <th>99</th>\n",
       "      <td>Lagos</td>\n",
       "      <td>Nigeria</td>\n",
       "      <td>13400000</td>\n",
       "      <td>738</td>\n",
       "      <td>True</td>\n",
       "      <td>18157.181572</td>\n",
       "    </tr>\n",
       "    <tr>\n",
       "      <th>101</th>\n",
       "      <td>Karachi</td>\n",
       "      <td>Pakistan</td>\n",
       "      <td>9800000</td>\n",
       "      <td>518</td>\n",
       "      <td>True</td>\n",
       "      <td>18918.918919</td>\n",
       "    </tr>\n",
       "    <tr>\n",
       "      <th>102</th>\n",
       "      <td>Lima</td>\n",
       "      <td>Peru</td>\n",
       "      <td>7000000</td>\n",
       "      <td>596</td>\n",
       "      <td>True</td>\n",
       "      <td>11744.966443</td>\n",
       "    </tr>\n",
       "    <tr>\n",
       "      <th>103</th>\n",
       "      <td>Manila</td>\n",
       "      <td>Philippines</td>\n",
       "      <td>14750000</td>\n",
       "      <td>1399</td>\n",
       "      <td>True</td>\n",
       "      <td>10543.245175</td>\n",
       "    </tr>\n",
       "    <tr>\n",
       "      <th>123</th>\n",
       "      <td>Seoul/Incheon</td>\n",
       "      <td>South Korea</td>\n",
       "      <td>17500000</td>\n",
       "      <td>1049</td>\n",
       "      <td>True</td>\n",
       "      <td>16682.554814</td>\n",
       "    </tr>\n",
       "    <tr>\n",
       "      <th>129</th>\n",
       "      <td>Taipei</td>\n",
       "      <td>Taiwan</td>\n",
       "      <td>5700000</td>\n",
       "      <td>376</td>\n",
       "      <td>True</td>\n",
       "      <td>15159.574468</td>\n",
       "    </tr>\n",
       "  </tbody>\n",
       "</table>\n",
       "</div>"
      ],
      "text/plain": [
       "    City / Urban area      Country  Population  Land area (in sqKm)     a  \\\n",
       "32            Beijing        China     8614000                  748  True   \n",
       "33           Shanghai        China    10000000                  746  True   \n",
       "34           Shenzhen        China     8000000                  466  True   \n",
       "36            Tianjin        China     4750000                  453  True   \n",
       "38             Bogota     Colombia     7000000                  518  True   \n",
       "39           Kinshasa        Congo     5000000                  469  True   \n",
       "71              Delhi        India    14300000                 1295  True   \n",
       "73          Bangalore        India     5400000                  534  True   \n",
       "74            Kolkata        India    12700000                  531  True   \n",
       "75             Mumbai        India    14350000                  484  True   \n",
       "76            Chennai        India     5950000                  414  True   \n",
       "77            Jakarta    Indonesia    14250000                 1360  True   \n",
       "78             Tehran         Iran     7250000                  686  True   \n",
       "99              Lagos      Nigeria    13400000                  738  True   \n",
       "101           Karachi     Pakistan     9800000                  518  True   \n",
       "102              Lima         Peru     7000000                  596  True   \n",
       "103            Manila  Philippines    14750000                 1399  True   \n",
       "123     Seoul/Incheon  South Korea    17500000                 1049  True   \n",
       "129            Taipei       Taiwan     5700000                  376  True   \n",
       "\n",
       "          Density  \n",
       "32   11516.042781  \n",
       "33   13404.825737  \n",
       "34   17167.381974  \n",
       "36   10485.651214  \n",
       "38   13513.513514  \n",
       "39   10660.980810  \n",
       "71   11042.471042  \n",
       "73   10112.359551  \n",
       "74   23917.137476  \n",
       "75   29648.760331  \n",
       "76   14371.980676  \n",
       "77   10477.941176  \n",
       "78   10568.513120  \n",
       "99   18157.181572  \n",
       "101  18918.918919  \n",
       "102  11744.966443  \n",
       "103  10543.245175  \n",
       "123  16682.554814  \n",
       "129  15159.574468  "
      ]
     },
     "execution_count": 86,
     "metadata": {},
     "output_type": "execute_result"
    }
   ],
   "source": [
    "df_high_density = df[df[\"Density\"] > 10000] #이거구나\n",
    "df_high_density"
   ]
  },
  {
   "cell_type": "code",
   "execution_count": 90,
   "metadata": {
    "scrolled": true
   },
   "outputs": [
    {
     "data": {
      "text/plain": [
       "0      False\n",
       "1      False\n",
       "2      False\n",
       "3      False\n",
       "4      False\n",
       "       ...  \n",
       "245    False\n",
       "246    False\n",
       "247    False\n",
       "248    False\n",
       "249    False\n",
       "Name: Density, Length: 249, dtype: bool"
      ]
     },
     "execution_count": 90,
     "metadata": {},
     "output_type": "execute_result"
    }
   ],
   "source": [
    "df[\"Density\"] > 10000"
   ]
  },
  {
   "cell_type": "code",
   "execution_count": 91,
   "metadata": {},
   "outputs": [
    {
     "data": {
      "text/html": [
       "<div>\n",
       "<style scoped>\n",
       "    .dataframe tbody tr th:only-of-type {\n",
       "        vertical-align: middle;\n",
       "    }\n",
       "\n",
       "    .dataframe tbody tr th {\n",
       "        vertical-align: top;\n",
       "    }\n",
       "\n",
       "    .dataframe thead th {\n",
       "        text-align: right;\n",
       "    }\n",
       "</style>\n",
       "<table border=\"1\" class=\"dataframe\">\n",
       "  <thead>\n",
       "    <tr style=\"text-align: right;\">\n",
       "      <th></th>\n",
       "      <th>City / Urban area</th>\n",
       "      <th>Country</th>\n",
       "      <th>Population</th>\n",
       "      <th>Land area (in sqKm)</th>\n",
       "      <th>a</th>\n",
       "      <th>Density</th>\n",
       "    </tr>\n",
       "  </thead>\n",
       "  <tbody>\n",
       "    <tr>\n",
       "      <th>32</th>\n",
       "      <td>Beijing</td>\n",
       "      <td>China</td>\n",
       "      <td>8614000</td>\n",
       "      <td>748</td>\n",
       "      <td>True</td>\n",
       "      <td>11516.042781</td>\n",
       "    </tr>\n",
       "    <tr>\n",
       "      <th>33</th>\n",
       "      <td>Shanghai</td>\n",
       "      <td>China</td>\n",
       "      <td>10000000</td>\n",
       "      <td>746</td>\n",
       "      <td>True</td>\n",
       "      <td>13404.825737</td>\n",
       "    </tr>\n",
       "    <tr>\n",
       "      <th>34</th>\n",
       "      <td>Shenzhen</td>\n",
       "      <td>China</td>\n",
       "      <td>8000000</td>\n",
       "      <td>466</td>\n",
       "      <td>True</td>\n",
       "      <td>17167.381974</td>\n",
       "    </tr>\n",
       "    <tr>\n",
       "      <th>36</th>\n",
       "      <td>Tianjin</td>\n",
       "      <td>China</td>\n",
       "      <td>4750000</td>\n",
       "      <td>453</td>\n",
       "      <td>True</td>\n",
       "      <td>10485.651214</td>\n",
       "    </tr>\n",
       "    <tr>\n",
       "      <th>38</th>\n",
       "      <td>Bogota</td>\n",
       "      <td>Colombia</td>\n",
       "      <td>7000000</td>\n",
       "      <td>518</td>\n",
       "      <td>True</td>\n",
       "      <td>13513.513514</td>\n",
       "    </tr>\n",
       "    <tr>\n",
       "      <th>39</th>\n",
       "      <td>Kinshasa</td>\n",
       "      <td>Congo</td>\n",
       "      <td>5000000</td>\n",
       "      <td>469</td>\n",
       "      <td>True</td>\n",
       "      <td>10660.980810</td>\n",
       "    </tr>\n",
       "    <tr>\n",
       "      <th>71</th>\n",
       "      <td>Delhi</td>\n",
       "      <td>India</td>\n",
       "      <td>14300000</td>\n",
       "      <td>1295</td>\n",
       "      <td>True</td>\n",
       "      <td>11042.471042</td>\n",
       "    </tr>\n",
       "    <tr>\n",
       "      <th>73</th>\n",
       "      <td>Bangalore</td>\n",
       "      <td>India</td>\n",
       "      <td>5400000</td>\n",
       "      <td>534</td>\n",
       "      <td>True</td>\n",
       "      <td>10112.359551</td>\n",
       "    </tr>\n",
       "    <tr>\n",
       "      <th>74</th>\n",
       "      <td>Kolkata</td>\n",
       "      <td>India</td>\n",
       "      <td>12700000</td>\n",
       "      <td>531</td>\n",
       "      <td>True</td>\n",
       "      <td>23917.137476</td>\n",
       "    </tr>\n",
       "    <tr>\n",
       "      <th>75</th>\n",
       "      <td>Mumbai</td>\n",
       "      <td>India</td>\n",
       "      <td>14350000</td>\n",
       "      <td>484</td>\n",
       "      <td>True</td>\n",
       "      <td>29648.760331</td>\n",
       "    </tr>\n",
       "    <tr>\n",
       "      <th>76</th>\n",
       "      <td>Chennai</td>\n",
       "      <td>India</td>\n",
       "      <td>5950000</td>\n",
       "      <td>414</td>\n",
       "      <td>True</td>\n",
       "      <td>14371.980676</td>\n",
       "    </tr>\n",
       "    <tr>\n",
       "      <th>77</th>\n",
       "      <td>Jakarta</td>\n",
       "      <td>Indonesia</td>\n",
       "      <td>14250000</td>\n",
       "      <td>1360</td>\n",
       "      <td>True</td>\n",
       "      <td>10477.941176</td>\n",
       "    </tr>\n",
       "    <tr>\n",
       "      <th>78</th>\n",
       "      <td>Tehran</td>\n",
       "      <td>Iran</td>\n",
       "      <td>7250000</td>\n",
       "      <td>686</td>\n",
       "      <td>True</td>\n",
       "      <td>10568.513120</td>\n",
       "    </tr>\n",
       "    <tr>\n",
       "      <th>99</th>\n",
       "      <td>Lagos</td>\n",
       "      <td>Nigeria</td>\n",
       "      <td>13400000</td>\n",
       "      <td>738</td>\n",
       "      <td>True</td>\n",
       "      <td>18157.181572</td>\n",
       "    </tr>\n",
       "    <tr>\n",
       "      <th>101</th>\n",
       "      <td>Karachi</td>\n",
       "      <td>Pakistan</td>\n",
       "      <td>9800000</td>\n",
       "      <td>518</td>\n",
       "      <td>True</td>\n",
       "      <td>18918.918919</td>\n",
       "    </tr>\n",
       "    <tr>\n",
       "      <th>102</th>\n",
       "      <td>Lima</td>\n",
       "      <td>Peru</td>\n",
       "      <td>7000000</td>\n",
       "      <td>596</td>\n",
       "      <td>True</td>\n",
       "      <td>11744.966443</td>\n",
       "    </tr>\n",
       "    <tr>\n",
       "      <th>103</th>\n",
       "      <td>Manila</td>\n",
       "      <td>Philippines</td>\n",
       "      <td>14750000</td>\n",
       "      <td>1399</td>\n",
       "      <td>True</td>\n",
       "      <td>10543.245175</td>\n",
       "    </tr>\n",
       "    <tr>\n",
       "      <th>123</th>\n",
       "      <td>Seoul/Incheon</td>\n",
       "      <td>South Korea</td>\n",
       "      <td>17500000</td>\n",
       "      <td>1049</td>\n",
       "      <td>True</td>\n",
       "      <td>16682.554814</td>\n",
       "    </tr>\n",
       "    <tr>\n",
       "      <th>129</th>\n",
       "      <td>Taipei</td>\n",
       "      <td>Taiwan</td>\n",
       "      <td>5700000</td>\n",
       "      <td>376</td>\n",
       "      <td>True</td>\n",
       "      <td>15159.574468</td>\n",
       "    </tr>\n",
       "  </tbody>\n",
       "</table>\n",
       "</div>"
      ],
      "text/plain": [
       "    City / Urban area      Country  Population  Land area (in sqKm)     a  \\\n",
       "32            Beijing        China     8614000                  748  True   \n",
       "33           Shanghai        China    10000000                  746  True   \n",
       "34           Shenzhen        China     8000000                  466  True   \n",
       "36            Tianjin        China     4750000                  453  True   \n",
       "38             Bogota     Colombia     7000000                  518  True   \n",
       "39           Kinshasa        Congo     5000000                  469  True   \n",
       "71              Delhi        India    14300000                 1295  True   \n",
       "73          Bangalore        India     5400000                  534  True   \n",
       "74            Kolkata        India    12700000                  531  True   \n",
       "75             Mumbai        India    14350000                  484  True   \n",
       "76            Chennai        India     5950000                  414  True   \n",
       "77            Jakarta    Indonesia    14250000                 1360  True   \n",
       "78             Tehran         Iran     7250000                  686  True   \n",
       "99              Lagos      Nigeria    13400000                  738  True   \n",
       "101           Karachi     Pakistan     9800000                  518  True   \n",
       "102              Lima         Peru     7000000                  596  True   \n",
       "103            Manila  Philippines    14750000                 1399  True   \n",
       "123     Seoul/Incheon  South Korea    17500000                 1049  True   \n",
       "129            Taipei       Taiwan     5700000                  376  True   \n",
       "\n",
       "          Density  \n",
       "32   11516.042781  \n",
       "33   13404.825737  \n",
       "34   17167.381974  \n",
       "36   10485.651214  \n",
       "38   13513.513514  \n",
       "39   10660.980810  \n",
       "71   11042.471042  \n",
       "73   10112.359551  \n",
       "74   23917.137476  \n",
       "75   29648.760331  \n",
       "76   14371.980676  \n",
       "77   10477.941176  \n",
       "78   10568.513120  \n",
       "99   18157.181572  \n",
       "101  18918.918919  \n",
       "102  11744.966443  \n",
       "103  10543.245175  \n",
       "123  16682.554814  \n",
       "129  15159.574468  "
      ]
     },
     "execution_count": 91,
     "metadata": {},
     "output_type": "execute_result"
    }
   ],
   "source": [
    "df[df[\"Density\"] > 10000]"
   ]
  },
  {
   "cell_type": "code",
   "execution_count": 89,
   "metadata": {
    "scrolled": true
   },
   "outputs": [
    {
     "name": "stdout",
     "output_type": "stream",
     "text": [
      "<class 'pandas.core.frame.DataFrame'>\n",
      "Int64Index: 19 entries, 32 to 129\n",
      "Data columns (total 6 columns):\n",
      " #   Column               Non-Null Count  Dtype  \n",
      "---  ------               --------------  -----  \n",
      " 0   City / Urban area    19 non-null     object \n",
      " 1   Country              19 non-null     object \n",
      " 2   Population           19 non-null     int64  \n",
      " 3   Land area (in sqKm)  19 non-null     int64  \n",
      " 4   a                    19 non-null     bool   \n",
      " 5   Density              19 non-null     float64\n",
      "dtypes: bool(1), float64(1), int64(2), object(2)\n",
      "memory usage: 931.0+ bytes\n"
     ]
    }
   ],
   "source": [
    "df_high_density.info() #5번 19개"
   ]
  },
  {
   "cell_type": "code",
   "execution_count": 93,
   "metadata": {
    "scrolled": true
   },
   "outputs": [
    {
     "data": {
      "text/html": [
       "<div>\n",
       "<style scoped>\n",
       "    .dataframe tbody tr th:only-of-type {\n",
       "        vertical-align: middle;\n",
       "    }\n",
       "\n",
       "    .dataframe tbody tr th {\n",
       "        vertical-align: top;\n",
       "    }\n",
       "\n",
       "    .dataframe thead th {\n",
       "        text-align: right;\n",
       "    }\n",
       "</style>\n",
       "<table border=\"1\" class=\"dataframe\">\n",
       "  <thead>\n",
       "    <tr style=\"text-align: right;\">\n",
       "      <th></th>\n",
       "      <th>City / Urban area</th>\n",
       "      <th>Country</th>\n",
       "      <th>Population</th>\n",
       "      <th>Land area (in sqKm)</th>\n",
       "      <th>a</th>\n",
       "      <th>Density</th>\n",
       "    </tr>\n",
       "  </thead>\n",
       "  <tbody>\n",
       "    <tr>\n",
       "      <th>75</th>\n",
       "      <td>Mumbai</td>\n",
       "      <td>India</td>\n",
       "      <td>14350000</td>\n",
       "      <td>484</td>\n",
       "      <td>True</td>\n",
       "      <td>29648.760331</td>\n",
       "    </tr>\n",
       "    <tr>\n",
       "      <th>74</th>\n",
       "      <td>Kolkata</td>\n",
       "      <td>India</td>\n",
       "      <td>12700000</td>\n",
       "      <td>531</td>\n",
       "      <td>True</td>\n",
       "      <td>23917.137476</td>\n",
       "    </tr>\n",
       "    <tr>\n",
       "      <th>101</th>\n",
       "      <td>Karachi</td>\n",
       "      <td>Pakistan</td>\n",
       "      <td>9800000</td>\n",
       "      <td>518</td>\n",
       "      <td>True</td>\n",
       "      <td>18918.918919</td>\n",
       "    </tr>\n",
       "    <tr>\n",
       "      <th>99</th>\n",
       "      <td>Lagos</td>\n",
       "      <td>Nigeria</td>\n",
       "      <td>13400000</td>\n",
       "      <td>738</td>\n",
       "      <td>True</td>\n",
       "      <td>18157.181572</td>\n",
       "    </tr>\n",
       "    <tr>\n",
       "      <th>34</th>\n",
       "      <td>Shenzhen</td>\n",
       "      <td>China</td>\n",
       "      <td>8000000</td>\n",
       "      <td>466</td>\n",
       "      <td>True</td>\n",
       "      <td>17167.381974</td>\n",
       "    </tr>\n",
       "    <tr>\n",
       "      <th>...</th>\n",
       "      <td>...</td>\n",
       "      <td>...</td>\n",
       "      <td>...</td>\n",
       "      <td>...</td>\n",
       "      <td>...</td>\n",
       "      <td>...</td>\n",
       "    </tr>\n",
       "    <tr>\n",
       "      <th>195</th>\n",
       "      <td>Chattanooga</td>\n",
       "      <td>USA</td>\n",
       "      <td>344000</td>\n",
       "      <td>751</td>\n",
       "      <td>False</td>\n",
       "      <td>458.055925</td>\n",
       "    </tr>\n",
       "    <tr>\n",
       "      <th>224</th>\n",
       "      <td>Asheville</td>\n",
       "      <td>USA</td>\n",
       "      <td>222000</td>\n",
       "      <td>536</td>\n",
       "      <td>False</td>\n",
       "      <td>414.179104</td>\n",
       "    </tr>\n",
       "    <tr>\n",
       "      <th>57</th>\n",
       "      <td>Pau</td>\n",
       "      <td>France</td>\n",
       "      <td>181000</td>\n",
       "      <td>450</td>\n",
       "      <td>False</td>\n",
       "      <td>402.222222</td>\n",
       "    </tr>\n",
       "    <tr>\n",
       "      <th>221</th>\n",
       "      <td>Hickory</td>\n",
       "      <td>USA</td>\n",
       "      <td>188000</td>\n",
       "      <td>546</td>\n",
       "      <td>False</td>\n",
       "      <td>344.322344</td>\n",
       "    </tr>\n",
       "    <tr>\n",
       "      <th>197</th>\n",
       "      <td>Barnstable Town</td>\n",
       "      <td>USA</td>\n",
       "      <td>244000</td>\n",
       "      <td>741</td>\n",
       "      <td>False</td>\n",
       "      <td>329.284750</td>\n",
       "    </tr>\n",
       "  </tbody>\n",
       "</table>\n",
       "<p>249 rows × 6 columns</p>\n",
       "</div>"
      ],
      "text/plain": [
       "    City / Urban area   Country  Population  Land area (in sqKm)      a  \\\n",
       "75             Mumbai     India    14350000                  484   True   \n",
       "74            Kolkata     India    12700000                  531   True   \n",
       "101           Karachi  Pakistan     9800000                  518   True   \n",
       "99              Lagos   Nigeria    13400000                  738   True   \n",
       "34           Shenzhen     China     8000000                  466   True   \n",
       "..                ...       ...         ...                  ...    ...   \n",
       "195       Chattanooga       USA      344000                  751  False   \n",
       "224         Asheville       USA      222000                  536  False   \n",
       "57                Pau    France      181000                  450  False   \n",
       "221           Hickory       USA      188000                  546  False   \n",
       "197   Barnstable Town       USA      244000                  741  False   \n",
       "\n",
       "          Density  \n",
       "75   29648.760331  \n",
       "74   23917.137476  \n",
       "101  18918.918919  \n",
       "99   18157.181572  \n",
       "34   17167.381974  \n",
       "..            ...  \n",
       "195    458.055925  \n",
       "224    414.179104  \n",
       "57     402.222222  \n",
       "221    344.322344  \n",
       "197    329.284750  \n",
       "\n",
       "[249 rows x 6 columns]"
      ]
     },
     "execution_count": 93,
     "metadata": {},
     "output_type": "execute_result"
    }
   ],
   "source": [
    "df.sort_values(by='Density', ascending=False) #3번 가장 인구밀도가 높은 도시는? 뭄바이"
   ]
  },
  {
   "cell_type": "code",
   "execution_count": 100,
   "metadata": {
    "scrolled": true
   },
   "outputs": [
    {
     "data": {
      "text/plain": [
       "array(['Argentina', 'Australia', 'Austria', 'Azerbaijan', 'Belgium',\n",
       "       'Brazil', 'Cambodia', 'Canada', 'Chile', 'China', 'Colombia',\n",
       "       'Congo', 'Denmark', 'Ecuador', 'Egypt', 'Finland', 'France',\n",
       "       'Germany', 'Ghana', 'Greece', 'Hungary', 'India', 'Indonesia',\n",
       "       'Iran', 'Iraq', 'Ireland', 'Israel', 'Italy', 'Japan', 'Kuwait',\n",
       "       'Lebanon', 'Malaysia', 'Mexico', 'Netherlands', 'New Zealand',\n",
       "       'Nigeria', 'Pakistan', 'Peru', 'Philippines', 'Poland', 'Portugal',\n",
       "       'Puerto Rico', 'Russia', 'Saudi', 'Saudi Arabia', 'Singapore',\n",
       "       'South Africa', 'South Korea', 'Spain', 'Sudan', 'Sweden',\n",
       "       'Taiwan', 'Thailand', 'Turkey', 'UAE', 'UK', 'Ukraine', 'USA',\n",
       "       'Uzbekistan', 'Vietnam', 'Zimbabwe'], dtype=object)"
      ]
     },
     "execution_count": 100,
     "metadata": {},
     "output_type": "execute_result"
    }
   ],
   "source": [
    "df['Country'].unique()"
   ]
  },
  {
   "cell_type": "code",
   "execution_count": 108,
   "metadata": {},
   "outputs": [
    {
     "data": {
      "text/plain": [
       "USA           105\n",
       "France         15\n",
       "Brazil         10\n",
       "Canada          9\n",
       "Germany         8\n",
       "             ... \n",
       "Hungary         1\n",
       "Azerbaijan      1\n",
       "Kuwait          1\n",
       "Colombia        1\n",
       "Denmark         1\n",
       "Name: Country, Length: 61, dtype: int64"
      ]
     },
     "execution_count": 108,
     "metadata": {},
     "output_type": "execute_result"
    }
   ],
   "source": [
    "df[\"Country\"].value_counts()"
   ]
  },
  {
   "cell_type": "code",
   "execution_count": 106,
   "metadata": {
    "scrolled": true
   },
   "outputs": [
    {
     "data": {
      "text/plain": [
       "USA           False\n",
       "France        False\n",
       "Brazil        False\n",
       "Canada        False\n",
       "Germany       False\n",
       "              ...  \n",
       "Hungary       False\n",
       "Azerbaijan    False\n",
       "Kuwait        False\n",
       "Colombia      False\n",
       "Denmark       False\n",
       "Name: Country, Length: 61, dtype: bool"
      ]
     },
     "execution_count": 106,
     "metadata": {},
     "output_type": "execute_result"
    }
   ],
   "source": [
    "df[\"Country\"].value_counts() == 4"
   ]
  },
  {
   "cell_type": "code",
   "execution_count": 112,
   "metadata": {},
   "outputs": [],
   "source": [
    "sdf = df[\"Country\"].value_counts() == 4"
   ]
  },
  {
   "cell_type": "code",
   "execution_count": 113,
   "metadata": {
    "scrolled": true
   },
   "outputs": [
    {
     "data": {
      "text/plain": [
       "USA           False\n",
       "France        False\n",
       "Brazil        False\n",
       "Canada        False\n",
       "Germany       False\n",
       "              ...  \n",
       "Hungary       False\n",
       "Azerbaijan    False\n",
       "Kuwait        False\n",
       "Colombia      False\n",
       "Denmark       False\n",
       "Name: Country, Length: 61, dtype: bool"
      ]
     },
     "execution_count": 113,
     "metadata": {},
     "output_type": "execute_result"
    }
   ],
   "source": [
    "sdf"
   ]
  },
  {
   "cell_type": "code",
   "execution_count": 115,
   "metadata": {},
   "outputs": [
    {
     "data": {
      "text/html": [
       "<div>\n",
       "<style scoped>\n",
       "    .dataframe tbody tr th:only-of-type {\n",
       "        vertical-align: middle;\n",
       "    }\n",
       "\n",
       "    .dataframe tbody tr th {\n",
       "        vertical-align: top;\n",
       "    }\n",
       "\n",
       "    .dataframe thead th {\n",
       "        text-align: right;\n",
       "    }\n",
       "</style>\n",
       "<table border=\"1\" class=\"dataframe\">\n",
       "  <thead>\n",
       "    <tr style=\"text-align: right;\">\n",
       "      <th></th>\n",
       "      <th>City / Urban area</th>\n",
       "      <th>Country</th>\n",
       "      <th>Population</th>\n",
       "      <th>Land area (in sqKm)</th>\n",
       "      <th>a</th>\n",
       "      <th>Density</th>\n",
       "      <th>b</th>\n",
       "    </tr>\n",
       "  </thead>\n",
       "  <tbody>\n",
       "    <tr>\n",
       "      <th>0</th>\n",
       "      <td>Buenos Aires</td>\n",
       "      <td>Argentina</td>\n",
       "      <td>11200000</td>\n",
       "      <td>2266</td>\n",
       "      <td>False</td>\n",
       "      <td>4942.630185</td>\n",
       "      <td>NaN</td>\n",
       "    </tr>\n",
       "    <tr>\n",
       "      <th>1</th>\n",
       "      <td>Melbourne</td>\n",
       "      <td>Australia</td>\n",
       "      <td>3162000</td>\n",
       "      <td>2080</td>\n",
       "      <td>False</td>\n",
       "      <td>1520.192308</td>\n",
       "      <td>NaN</td>\n",
       "    </tr>\n",
       "    <tr>\n",
       "      <th>2</th>\n",
       "      <td>Sydney</td>\n",
       "      <td>Australia</td>\n",
       "      <td>3502000</td>\n",
       "      <td>1687</td>\n",
       "      <td>False</td>\n",
       "      <td>2075.874333</td>\n",
       "      <td>NaN</td>\n",
       "    </tr>\n",
       "    <tr>\n",
       "      <th>3</th>\n",
       "      <td>Brisbane</td>\n",
       "      <td>Australia</td>\n",
       "      <td>1508000</td>\n",
       "      <td>1603</td>\n",
       "      <td>False</td>\n",
       "      <td>940.736120</td>\n",
       "      <td>NaN</td>\n",
       "    </tr>\n",
       "    <tr>\n",
       "      <th>4</th>\n",
       "      <td>Perth</td>\n",
       "      <td>Australia</td>\n",
       "      <td>1177000</td>\n",
       "      <td>964</td>\n",
       "      <td>False</td>\n",
       "      <td>1220.954357</td>\n",
       "      <td>NaN</td>\n",
       "    </tr>\n",
       "    <tr>\n",
       "      <th>...</th>\n",
       "      <td>...</td>\n",
       "      <td>...</td>\n",
       "      <td>...</td>\n",
       "      <td>...</td>\n",
       "      <td>...</td>\n",
       "      <td>...</td>\n",
       "      <td>...</td>\n",
       "    </tr>\n",
       "    <tr>\n",
       "      <th>245</th>\n",
       "      <td>Canton</td>\n",
       "      <td>USA</td>\n",
       "      <td>267000</td>\n",
       "      <td>372</td>\n",
       "      <td>False</td>\n",
       "      <td>717.741935</td>\n",
       "      <td>NaN</td>\n",
       "    </tr>\n",
       "    <tr>\n",
       "      <th>246</th>\n",
       "      <td>Spokane</td>\n",
       "      <td>USA</td>\n",
       "      <td>335000</td>\n",
       "      <td>371</td>\n",
       "      <td>False</td>\n",
       "      <td>902.964960</td>\n",
       "      <td>NaN</td>\n",
       "    </tr>\n",
       "    <tr>\n",
       "      <th>247</th>\n",
       "      <td>Tashkent</td>\n",
       "      <td>Uzbekistan</td>\n",
       "      <td>2200000</td>\n",
       "      <td>531</td>\n",
       "      <td>False</td>\n",
       "      <td>4143.126177</td>\n",
       "      <td>NaN</td>\n",
       "    </tr>\n",
       "    <tr>\n",
       "      <th>248</th>\n",
       "      <td>Ho Chi Minh City</td>\n",
       "      <td>Vietnam</td>\n",
       "      <td>4900000</td>\n",
       "      <td>518</td>\n",
       "      <td>False</td>\n",
       "      <td>9459.459459</td>\n",
       "      <td>NaN</td>\n",
       "    </tr>\n",
       "    <tr>\n",
       "      <th>249</th>\n",
       "      <td>Harare</td>\n",
       "      <td>Zimbabwe</td>\n",
       "      <td>1750000</td>\n",
       "      <td>712</td>\n",
       "      <td>False</td>\n",
       "      <td>2457.865169</td>\n",
       "      <td>NaN</td>\n",
       "    </tr>\n",
       "  </tbody>\n",
       "</table>\n",
       "<p>249 rows × 7 columns</p>\n",
       "</div>"
      ],
      "text/plain": [
       "    City / Urban area     Country  Population  Land area (in sqKm)      a  \\\n",
       "0        Buenos Aires   Argentina    11200000                 2266  False   \n",
       "1           Melbourne   Australia     3162000                 2080  False   \n",
       "2              Sydney   Australia     3502000                 1687  False   \n",
       "3            Brisbane   Australia     1508000                 1603  False   \n",
       "4               Perth   Australia     1177000                  964  False   \n",
       "..                ...         ...         ...                  ...    ...   \n",
       "245            Canton         USA      267000                  372  False   \n",
       "246           Spokane         USA      335000                  371  False   \n",
       "247          Tashkent  Uzbekistan     2200000                  531  False   \n",
       "248  Ho Chi Minh City     Vietnam     4900000                  518  False   \n",
       "249            Harare    Zimbabwe     1750000                  712  False   \n",
       "\n",
       "         Density    b  \n",
       "0    4942.630185  NaN  \n",
       "1    1520.192308  NaN  \n",
       "2    2075.874333  NaN  \n",
       "3     940.736120  NaN  \n",
       "4    1220.954357  NaN  \n",
       "..           ...  ...  \n",
       "245   717.741935  NaN  \n",
       "246   902.964960  NaN  \n",
       "247  4143.126177  NaN  \n",
       "248  9459.459459  NaN  \n",
       "249  2457.865169  NaN  \n",
       "\n",
       "[249 rows x 7 columns]"
      ]
     },
     "execution_count": 115,
     "metadata": {},
     "output_type": "execute_result"
    }
   ],
   "source": [
    "df[\"b\"] = sdf\n",
    "df"
   ]
  },
  {
   "cell_type": "code",
   "execution_count": 116,
   "metadata": {},
   "outputs": [
    {
     "data": {
      "text/plain": [
       "False    60\n",
       "True      1\n",
       "Name: Country, dtype: int64"
      ]
     },
     "execution_count": 116,
     "metadata": {},
     "output_type": "execute_result"
    }
   ],
   "source": [
    "sdf.value_counts()"
   ]
  },
  {
   "cell_type": "code",
   "execution_count": 120,
   "metadata": {
    "scrolled": true
   },
   "outputs": [
    {
     "data": {
      "text/plain": [
       "USA           105\n",
       "France         15\n",
       "Brazil         10\n",
       "Canada          9\n",
       "Germany         8\n",
       "             ... \n",
       "Hungary         1\n",
       "Azerbaijan      1\n",
       "Kuwait          1\n",
       "Colombia        1\n",
       "Denmark         1\n",
       "Name: Country, Length: 61, dtype: int64"
      ]
     },
     "execution_count": 120,
     "metadata": {},
     "output_type": "execute_result"
    }
   ],
   "source": [
    "df[\"Country\"].value_counts()"
   ]
  },
  {
   "cell_type": "code",
   "execution_count": 125,
   "metadata": {},
   "outputs": [],
   "source": [
    "country = df[\"Country\"].value_counts()"
   ]
  },
  {
   "cell_type": "code",
   "execution_count": 126,
   "metadata": {
    "scrolled": true
   },
   "outputs": [
    {
     "data": {
      "text/plain": [
       "USA           105\n",
       "France         15\n",
       "Brazil         10\n",
       "Canada          9\n",
       "Germany         8\n",
       "             ... \n",
       "Hungary         1\n",
       "Azerbaijan      1\n",
       "Kuwait          1\n",
       "Colombia        1\n",
       "Denmark         1\n",
       "Name: Country, Length: 61, dtype: int64"
      ]
     },
     "execution_count": 126,
     "metadata": {},
     "output_type": "execute_result"
    }
   ],
   "source": [
    "country"
   ]
  },
  {
   "cell_type": "code",
   "execution_count": 128,
   "metadata": {
    "scrolled": true
   },
   "outputs": [
    {
     "data": {
      "text/plain": [
       "Italy    4\n",
       "Name: Country, dtype: int64"
      ]
     },
     "execution_count": 128,
     "metadata": {},
     "output_type": "execute_result"
    }
   ],
   "source": [
    "country[country == 4]"
   ]
  },
  {
   "cell_type": "code",
   "execution_count": 129,
   "metadata": {},
   "outputs": [
    {
     "data": {
      "text/plain": [
       "Italy    4\n",
       "Name: Country, dtype: int64"
      ]
     },
     "execution_count": 129,
     "metadata": {},
     "output_type": "execute_result"
    }
   ],
   "source": [
    "df[\"Country\"].value_counts()[df[\"Country\"].value_counts() == 4] #너무 어렵군"
   ]
  }
 ],
 "metadata": {
  "kernelspec": {
   "display_name": "Python 3",
   "language": "python",
   "name": "python3"
  },
  "language_info": {
   "codemirror_mode": {
    "name": "ipython",
    "version": 3
   },
   "file_extension": ".py",
   "mimetype": "text/x-python",
   "name": "python",
   "nbconvert_exporter": "python",
   "pygments_lexer": "ipython3",
   "version": "3.7.6"
  }
 },
 "nbformat": 4,
 "nbformat_minor": 4
}
