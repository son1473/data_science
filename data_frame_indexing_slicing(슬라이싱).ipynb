{
 "cells": [
  {
   "cell_type": "code",
   "execution_count": 1,
   "metadata": {},
   "outputs": [],
   "source": [
    "import pandas as pd"
   ]
  },
  {
   "cell_type": "code",
   "execution_count": 3,
   "metadata": {},
   "outputs": [
    {
     "data": {
      "text/html": [
       "<div>\n",
       "<style scoped>\n",
       "    .dataframe tbody tr th:only-of-type {\n",
       "        vertical-align: middle;\n",
       "    }\n",
       "\n",
       "    .dataframe tbody tr th {\n",
       "        vertical-align: top;\n",
       "    }\n",
       "\n",
       "    .dataframe thead th {\n",
       "        text-align: right;\n",
       "    }\n",
       "</style>\n",
       "<table border=\"1\" class=\"dataframe\">\n",
       "  <thead>\n",
       "    <tr style=\"text-align: right;\">\n",
       "      <th></th>\n",
       "      <th>출시일</th>\n",
       "      <th>디스플레이</th>\n",
       "      <th>메모리</th>\n",
       "      <th>출시 버전</th>\n",
       "      <th>Face ID</th>\n",
       "    </tr>\n",
       "  </thead>\n",
       "  <tbody>\n",
       "    <tr>\n",
       "      <td>iPhone 7</td>\n",
       "      <td>2016-09-16</td>\n",
       "      <td>4.7</td>\n",
       "      <td>2GB</td>\n",
       "      <td>iOS 10.0</td>\n",
       "      <td>No</td>\n",
       "    </tr>\n",
       "    <tr>\n",
       "      <td>iPhone 7 Plus</td>\n",
       "      <td>2016-09-16</td>\n",
       "      <td>5.5</td>\n",
       "      <td>3GB</td>\n",
       "      <td>iOS 10.0</td>\n",
       "      <td>No</td>\n",
       "    </tr>\n",
       "    <tr>\n",
       "      <td>iPhone 8</td>\n",
       "      <td>2017-09-22</td>\n",
       "      <td>4.7</td>\n",
       "      <td>2GB</td>\n",
       "      <td>iOS 11.0</td>\n",
       "      <td>No</td>\n",
       "    </tr>\n",
       "    <tr>\n",
       "      <td>iPhone 8 Plus</td>\n",
       "      <td>2017-09-22</td>\n",
       "      <td>5.5</td>\n",
       "      <td>3GB</td>\n",
       "      <td>iOS 11.0</td>\n",
       "      <td>No</td>\n",
       "    </tr>\n",
       "    <tr>\n",
       "      <td>iPhone X</td>\n",
       "      <td>2017-11-03</td>\n",
       "      <td>5.8</td>\n",
       "      <td>3GB</td>\n",
       "      <td>iOS 11.1</td>\n",
       "      <td>Yes</td>\n",
       "    </tr>\n",
       "    <tr>\n",
       "      <td>iPhone XS</td>\n",
       "      <td>2018-09-21</td>\n",
       "      <td>5.8</td>\n",
       "      <td>4GB</td>\n",
       "      <td>iOS 12.0</td>\n",
       "      <td>Yes</td>\n",
       "    </tr>\n",
       "    <tr>\n",
       "      <td>iPhone XS Max</td>\n",
       "      <td>2018-09-21</td>\n",
       "      <td>6.5</td>\n",
       "      <td>4GB</td>\n",
       "      <td>iOS 12.0</td>\n",
       "      <td>Yes</td>\n",
       "    </tr>\n",
       "  </tbody>\n",
       "</table>\n",
       "</div>"
      ],
      "text/plain": [
       "                      출시일  디스플레이  메모리     출시 버전 Face ID\n",
       "iPhone 7       2016-09-16    4.7  2GB  iOS 10.0      No\n",
       "iPhone 7 Plus  2016-09-16    5.5  3GB  iOS 10.0      No\n",
       "iPhone 8       2017-09-22    4.7  2GB  iOS 11.0      No\n",
       "iPhone 8 Plus  2017-09-22    5.5  3GB  iOS 11.0      No\n",
       "iPhone X       2017-11-03    5.8  3GB  iOS 11.1     Yes\n",
       "iPhone XS      2018-09-21    5.8  4GB  iOS 12.0     Yes\n",
       "iPhone XS Max  2018-09-21    6.5  4GB  iOS 12.0     Yes"
      ]
     },
     "execution_count": 3,
     "metadata": {},
     "output_type": "execute_result"
    }
   ],
   "source": [
    "df = pd.read_csv(\"Data/iphone.csv\", index_col=0)\n",
    "df"
   ]
  },
  {
   "cell_type": "code",
   "execution_count": 5,
   "metadata": {},
   "outputs": [
    {
     "data": {
      "text/plain": [
       "출시일        2016-09-16\n",
       "디스플레이             4.7\n",
       "메모리               2GB\n",
       "출시 버전        iOS 10.0\n",
       "Face ID            No\n",
       "Name: iPhone 7, dtype: object"
      ]
     },
     "execution_count": 5,
     "metadata": {},
     "output_type": "execute_result"
    }
   ],
   "source": [
    "df.loc['iPhone 7'] #한가지 행 출력하기"
   ]
  },
  {
   "cell_type": "code",
   "execution_count": 7,
   "metadata": {},
   "outputs": [
    {
     "data": {
      "text/html": [
       "<div>\n",
       "<style scoped>\n",
       "    .dataframe tbody tr th:only-of-type {\n",
       "        vertical-align: middle;\n",
       "    }\n",
       "\n",
       "    .dataframe tbody tr th {\n",
       "        vertical-align: top;\n",
       "    }\n",
       "\n",
       "    .dataframe thead th {\n",
       "        text-align: right;\n",
       "    }\n",
       "</style>\n",
       "<table border=\"1\" class=\"dataframe\">\n",
       "  <thead>\n",
       "    <tr style=\"text-align: right;\">\n",
       "      <th></th>\n",
       "      <th>출시일</th>\n",
       "      <th>디스플레이</th>\n",
       "    </tr>\n",
       "  </thead>\n",
       "  <tbody>\n",
       "    <tr>\n",
       "      <td>iPhone 7</td>\n",
       "      <td>2016-09-16</td>\n",
       "      <td>4.7</td>\n",
       "    </tr>\n",
       "    <tr>\n",
       "      <td>iPhone 7 Plus</td>\n",
       "      <td>2016-09-16</td>\n",
       "      <td>5.5</td>\n",
       "    </tr>\n",
       "    <tr>\n",
       "      <td>iPhone 8</td>\n",
       "      <td>2017-09-22</td>\n",
       "      <td>4.7</td>\n",
       "    </tr>\n",
       "    <tr>\n",
       "      <td>iPhone 8 Plus</td>\n",
       "      <td>2017-09-22</td>\n",
       "      <td>5.5</td>\n",
       "    </tr>\n",
       "    <tr>\n",
       "      <td>iPhone X</td>\n",
       "      <td>2017-11-03</td>\n",
       "      <td>5.8</td>\n",
       "    </tr>\n",
       "    <tr>\n",
       "      <td>iPhone XS</td>\n",
       "      <td>2018-09-21</td>\n",
       "      <td>5.8</td>\n",
       "    </tr>\n",
       "    <tr>\n",
       "      <td>iPhone XS Max</td>\n",
       "      <td>2018-09-21</td>\n",
       "      <td>6.5</td>\n",
       "    </tr>\n",
       "  </tbody>\n",
       "</table>\n",
       "</div>"
      ],
      "text/plain": [
       "                      출시일  디스플레이\n",
       "iPhone 7       2016-09-16    4.7\n",
       "iPhone 7 Plus  2016-09-16    5.5\n",
       "iPhone 8       2017-09-22    4.7\n",
       "iPhone 8 Plus  2017-09-22    5.5\n",
       "iPhone X       2017-11-03    5.8\n",
       "iPhone XS      2018-09-21    5.8\n",
       "iPhone XS Max  2018-09-21    6.5"
      ]
     },
     "execution_count": 7,
     "metadata": {},
     "output_type": "execute_result"
    }
   ],
   "source": [
    "df[['출시일', '디스플레이']] #두가지 칼럼 출력하기"
   ]
  },
  {
   "cell_type": "code",
   "execution_count": 10,
   "metadata": {},
   "outputs": [
    {
     "data": {
      "text/html": [
       "<div>\n",
       "<style scoped>\n",
       "    .dataframe tbody tr th:only-of-type {\n",
       "        vertical-align: middle;\n",
       "    }\n",
       "\n",
       "    .dataframe tbody tr th {\n",
       "        vertical-align: top;\n",
       "    }\n",
       "\n",
       "    .dataframe thead th {\n",
       "        text-align: right;\n",
       "    }\n",
       "</style>\n",
       "<table border=\"1\" class=\"dataframe\">\n",
       "  <thead>\n",
       "    <tr style=\"text-align: right;\">\n",
       "      <th></th>\n",
       "      <th>출시일</th>\n",
       "      <th>디스플레이</th>\n",
       "      <th>메모리</th>\n",
       "      <th>출시 버전</th>\n",
       "      <th>Face ID</th>\n",
       "    </tr>\n",
       "  </thead>\n",
       "  <tbody>\n",
       "    <tr>\n",
       "      <td>iPhone 8</td>\n",
       "      <td>2017-09-22</td>\n",
       "      <td>4.7</td>\n",
       "      <td>2GB</td>\n",
       "      <td>iOS 11.0</td>\n",
       "      <td>No</td>\n",
       "    </tr>\n",
       "    <tr>\n",
       "      <td>iPhone 8 Plus</td>\n",
       "      <td>2017-09-22</td>\n",
       "      <td>5.5</td>\n",
       "      <td>3GB</td>\n",
       "      <td>iOS 11.0</td>\n",
       "      <td>No</td>\n",
       "    </tr>\n",
       "    <tr>\n",
       "      <td>iPhone X</td>\n",
       "      <td>2017-11-03</td>\n",
       "      <td>5.8</td>\n",
       "      <td>3GB</td>\n",
       "      <td>iOS 11.1</td>\n",
       "      <td>Yes</td>\n",
       "    </tr>\n",
       "  </tbody>\n",
       "</table>\n",
       "</div>"
      ],
      "text/plain": [
       "                      출시일  디스플레이  메모리     출시 버전 Face ID\n",
       "iPhone 8       2017-09-22    4.7  2GB  iOS 11.0      No\n",
       "iPhone 8 Plus  2017-09-22    5.5  3GB  iOS 11.0      No\n",
       "iPhone X       2017-11-03    5.8  3GB  iOS 11.1     Yes"
      ]
     },
     "execution_count": 10,
     "metadata": {},
     "output_type": "execute_result"
    }
   ],
   "source": [
    "df.loc['iPhone 8' : 'iPhone X'] #여러 행 출력하기"
   ]
  },
  {
   "cell_type": "code",
   "execution_count": 9,
   "metadata": {},
   "outputs": [
    {
     "data": {
      "text/html": [
       "<div>\n",
       "<style scoped>\n",
       "    .dataframe tbody tr th:only-of-type {\n",
       "        vertical-align: middle;\n",
       "    }\n",
       "\n",
       "    .dataframe tbody tr th {\n",
       "        vertical-align: top;\n",
       "    }\n",
       "\n",
       "    .dataframe thead th {\n",
       "        text-align: right;\n",
       "    }\n",
       "</style>\n",
       "<table border=\"1\" class=\"dataframe\">\n",
       "  <thead>\n",
       "    <tr style=\"text-align: right;\">\n",
       "      <th></th>\n",
       "      <th>출시일</th>\n",
       "      <th>디스플레이</th>\n",
       "      <th>메모리</th>\n",
       "      <th>출시 버전</th>\n",
       "      <th>Face ID</th>\n",
       "    </tr>\n",
       "  </thead>\n",
       "  <tbody>\n",
       "    <tr>\n",
       "      <td>iPhone 7</td>\n",
       "      <td>2016-09-16</td>\n",
       "      <td>4.7</td>\n",
       "      <td>2GB</td>\n",
       "      <td>iOS 10.0</td>\n",
       "      <td>No</td>\n",
       "    </tr>\n",
       "    <tr>\n",
       "      <td>iPhone 7 Plus</td>\n",
       "      <td>2016-09-16</td>\n",
       "      <td>5.5</td>\n",
       "      <td>3GB</td>\n",
       "      <td>iOS 10.0</td>\n",
       "      <td>No</td>\n",
       "    </tr>\n",
       "    <tr>\n",
       "      <td>iPhone 8</td>\n",
       "      <td>2017-09-22</td>\n",
       "      <td>4.7</td>\n",
       "      <td>2GB</td>\n",
       "      <td>iOS 11.0</td>\n",
       "      <td>No</td>\n",
       "    </tr>\n",
       "    <tr>\n",
       "      <td>iPhone 8 Plus</td>\n",
       "      <td>2017-09-22</td>\n",
       "      <td>5.5</td>\n",
       "      <td>3GB</td>\n",
       "      <td>iOS 11.0</td>\n",
       "      <td>No</td>\n",
       "    </tr>\n",
       "    <tr>\n",
       "      <td>iPhone X</td>\n",
       "      <td>2017-11-03</td>\n",
       "      <td>5.8</td>\n",
       "      <td>3GB</td>\n",
       "      <td>iOS 11.1</td>\n",
       "      <td>Yes</td>\n",
       "    </tr>\n",
       "  </tbody>\n",
       "</table>\n",
       "</div>"
      ],
      "text/plain": [
       "                      출시일  디스플레이  메모리     출시 버전 Face ID\n",
       "iPhone 7       2016-09-16    4.7  2GB  iOS 10.0      No\n",
       "iPhone 7 Plus  2016-09-16    5.5  3GB  iOS 10.0      No\n",
       "iPhone 8       2017-09-22    4.7  2GB  iOS 11.0      No\n",
       "iPhone 8 Plus  2017-09-22    5.5  3GB  iOS 11.0      No\n",
       "iPhone X       2017-11-03    5.8  3GB  iOS 11.1     Yes"
      ]
     },
     "execution_count": 9,
     "metadata": {},
     "output_type": "execute_result"
    }
   ],
   "source": [
    "df.loc[: 'iPhone X'] #여러 행 출력하기"
   ]
  },
  {
   "cell_type": "code",
   "execution_count": 21,
   "metadata": {},
   "outputs": [
    {
     "data": {
      "text/html": [
       "<div>\n",
       "<style scoped>\n",
       "    .dataframe tbody tr th:only-of-type {\n",
       "        vertical-align: middle;\n",
       "    }\n",
       "\n",
       "    .dataframe tbody tr th {\n",
       "        vertical-align: top;\n",
       "    }\n",
       "\n",
       "    .dataframe thead th {\n",
       "        text-align: right;\n",
       "    }\n",
       "</style>\n",
       "<table border=\"1\" class=\"dataframe\">\n",
       "  <thead>\n",
       "    <tr style=\"text-align: right;\">\n",
       "      <th></th>\n",
       "      <th>메모리</th>\n",
       "      <th>출시 버전</th>\n",
       "      <th>Face ID</th>\n",
       "    </tr>\n",
       "  </thead>\n",
       "  <tbody>\n",
       "    <tr>\n",
       "      <td>iPhone 7</td>\n",
       "      <td>2GB</td>\n",
       "      <td>iOS 10.0</td>\n",
       "      <td>No</td>\n",
       "    </tr>\n",
       "    <tr>\n",
       "      <td>iPhone 7 Plus</td>\n",
       "      <td>3GB</td>\n",
       "      <td>iOS 10.0</td>\n",
       "      <td>No</td>\n",
       "    </tr>\n",
       "    <tr>\n",
       "      <td>iPhone 8</td>\n",
       "      <td>2GB</td>\n",
       "      <td>iOS 11.0</td>\n",
       "      <td>No</td>\n",
       "    </tr>\n",
       "    <tr>\n",
       "      <td>iPhone 8 Plus</td>\n",
       "      <td>3GB</td>\n",
       "      <td>iOS 11.0</td>\n",
       "      <td>No</td>\n",
       "    </tr>\n",
       "    <tr>\n",
       "      <td>iPhone X</td>\n",
       "      <td>3GB</td>\n",
       "      <td>iOS 11.1</td>\n",
       "      <td>Yes</td>\n",
       "    </tr>\n",
       "    <tr>\n",
       "      <td>iPhone XS</td>\n",
       "      <td>4GB</td>\n",
       "      <td>iOS 12.0</td>\n",
       "      <td>Yes</td>\n",
       "    </tr>\n",
       "    <tr>\n",
       "      <td>iPhone XS Max</td>\n",
       "      <td>4GB</td>\n",
       "      <td>iOS 12.0</td>\n",
       "      <td>Yes</td>\n",
       "    </tr>\n",
       "  </tbody>\n",
       "</table>\n",
       "</div>"
      ],
      "text/plain": [
       "               메모리     출시 버전 Face ID\n",
       "iPhone 7       2GB  iOS 10.0      No\n",
       "iPhone 7 Plus  3GB  iOS 10.0      No\n",
       "iPhone 8       2GB  iOS 11.0      No\n",
       "iPhone 8 Plus  3GB  iOS 11.0      No\n",
       "iPhone X       3GB  iOS 11.1     Yes\n",
       "iPhone XS      4GB  iOS 12.0     Yes\n",
       "iPhone XS Max  4GB  iOS 12.0     Yes"
      ]
     },
     "execution_count": 21,
     "metadata": {},
     "output_type": "execute_result"
    }
   ],
   "source": [
    "df.loc[:, \"메모리\":\"Face ID\"] #여러 열 출력하기"
   ]
  },
  {
   "cell_type": "code",
   "execution_count": 13,
   "metadata": {},
   "outputs": [
    {
     "data": {
      "text/html": [
       "<div>\n",
       "<style scoped>\n",
       "    .dataframe tbody tr th:only-of-type {\n",
       "        vertical-align: middle;\n",
       "    }\n",
       "\n",
       "    .dataframe tbody tr th {\n",
       "        vertical-align: top;\n",
       "    }\n",
       "\n",
       "    .dataframe thead th {\n",
       "        text-align: right;\n",
       "    }\n",
       "</style>\n",
       "<table border=\"1\" class=\"dataframe\">\n",
       "  <thead>\n",
       "    <tr style=\"text-align: right;\">\n",
       "      <th></th>\n",
       "      <th>메모리</th>\n",
       "      <th>출시 버전</th>\n",
       "      <th>Face ID</th>\n",
       "    </tr>\n",
       "  </thead>\n",
       "  <tbody>\n",
       "    <tr>\n",
       "      <td>iPhone 8</td>\n",
       "      <td>2GB</td>\n",
       "      <td>iOS 11.0</td>\n",
       "      <td>No</td>\n",
       "    </tr>\n",
       "    <tr>\n",
       "      <td>iPhone 8 Plus</td>\n",
       "      <td>3GB</td>\n",
       "      <td>iOS 11.0</td>\n",
       "      <td>No</td>\n",
       "    </tr>\n",
       "    <tr>\n",
       "      <td>iPhone X</td>\n",
       "      <td>3GB</td>\n",
       "      <td>iOS 11.1</td>\n",
       "      <td>Yes</td>\n",
       "    </tr>\n",
       "    <tr>\n",
       "      <td>iPhone XS</td>\n",
       "      <td>4GB</td>\n",
       "      <td>iOS 12.0</td>\n",
       "      <td>Yes</td>\n",
       "    </tr>\n",
       "  </tbody>\n",
       "</table>\n",
       "</div>"
      ],
      "text/plain": [
       "               메모리     출시 버전 Face ID\n",
       "iPhone 8       2GB  iOS 11.0      No\n",
       "iPhone 8 Plus  3GB  iOS 11.0      No\n",
       "iPhone X       3GB  iOS 11.1     Yes\n",
       "iPhone XS      4GB  iOS 12.0     Yes"
      ]
     },
     "execution_count": 13,
     "metadata": {},
     "output_type": "execute_result"
    }
   ],
   "source": [
    "df.loc[\"iPhone 8\":\"iPhone XS\", \"메모리\":\"Face ID\"] #여러 열 출력하기"
   ]
  },
  {
   "cell_type": "code",
   "execution_count": 14,
   "metadata": {},
   "outputs": [],
   "source": [
    "#실습 'KBS'에서 'SBS'까지, 연도는 2012년부터 2017년까지의 시청률만 확인\n",
    "broadcast_df = pd.read_csv('data/broadcast.csv', index_col=0)"
   ]
  },
  {
   "cell_type": "code",
   "execution_count": 15,
   "metadata": {},
   "outputs": [
    {
     "data": {
      "text/html": [
       "<div>\n",
       "<style scoped>\n",
       "    .dataframe tbody tr th:only-of-type {\n",
       "        vertical-align: middle;\n",
       "    }\n",
       "\n",
       "    .dataframe tbody tr th {\n",
       "        vertical-align: top;\n",
       "    }\n",
       "\n",
       "    .dataframe thead th {\n",
       "        text-align: right;\n",
       "    }\n",
       "</style>\n",
       "<table border=\"1\" class=\"dataframe\">\n",
       "  <thead>\n",
       "    <tr style=\"text-align: right;\">\n",
       "      <th></th>\n",
       "      <th>KBS</th>\n",
       "      <th>MBC</th>\n",
       "      <th>SBS</th>\n",
       "    </tr>\n",
       "  </thead>\n",
       "  <tbody>\n",
       "    <tr>\n",
       "      <td>2012</td>\n",
       "      <td>36.163</td>\n",
       "      <td>16.022</td>\n",
       "      <td>11.408</td>\n",
       "    </tr>\n",
       "    <tr>\n",
       "      <td>2013</td>\n",
       "      <td>31.989</td>\n",
       "      <td>16.778</td>\n",
       "      <td>9.673</td>\n",
       "    </tr>\n",
       "    <tr>\n",
       "      <td>2014</td>\n",
       "      <td>31.210</td>\n",
       "      <td>15.663</td>\n",
       "      <td>9.108</td>\n",
       "    </tr>\n",
       "    <tr>\n",
       "      <td>2015</td>\n",
       "      <td>27.777</td>\n",
       "      <td>16.573</td>\n",
       "      <td>9.099</td>\n",
       "    </tr>\n",
       "    <tr>\n",
       "      <td>2016</td>\n",
       "      <td>27.583</td>\n",
       "      <td>14.982</td>\n",
       "      <td>8.669</td>\n",
       "    </tr>\n",
       "    <tr>\n",
       "      <td>2017</td>\n",
       "      <td>26.890</td>\n",
       "      <td>12.465</td>\n",
       "      <td>8.661</td>\n",
       "    </tr>\n",
       "  </tbody>\n",
       "</table>\n",
       "</div>"
      ],
      "text/plain": [
       "         KBS     MBC     SBS\n",
       "2012  36.163  16.022  11.408\n",
       "2013  31.989  16.778   9.673\n",
       "2014  31.210  15.663   9.108\n",
       "2015  27.777  16.573   9.099\n",
       "2016  27.583  14.982   8.669\n",
       "2017  26.890  12.465   8.661"
      ]
     },
     "execution_count": 15,
     "metadata": {},
     "output_type": "execute_result"
    }
   ],
   "source": [
    "broadcast_df.loc[2012:2017, \"KBS\":\"SBS\"]"
   ]
  },
  {
   "cell_type": "code",
   "execution_count": 23,
   "metadata": {
    "scrolled": true
   },
   "outputs": [
    {
     "data": {
      "text/html": [
       "<div>\n",
       "<style scoped>\n",
       "    .dataframe tbody tr th:only-of-type {\n",
       "        vertical-align: middle;\n",
       "    }\n",
       "\n",
       "    .dataframe tbody tr th {\n",
       "        vertical-align: top;\n",
       "    }\n",
       "\n",
       "    .dataframe thead th {\n",
       "        text-align: right;\n",
       "    }\n",
       "</style>\n",
       "<table border=\"1\" class=\"dataframe\">\n",
       "  <thead>\n",
       "    <tr style=\"text-align: right;\">\n",
       "      <th></th>\n",
       "      <th>출시일</th>\n",
       "      <th>디스플레이</th>\n",
       "      <th>메모리</th>\n",
       "      <th>출시 버전</th>\n",
       "      <th>Face ID</th>\n",
       "    </tr>\n",
       "  </thead>\n",
       "  <tbody>\n",
       "    <tr>\n",
       "      <td>iPhone 7</td>\n",
       "      <td>2016-09-16</td>\n",
       "      <td>4.7</td>\n",
       "      <td>2GB</td>\n",
       "      <td>iOS 10.0</td>\n",
       "      <td>No</td>\n",
       "    </tr>\n",
       "    <tr>\n",
       "      <td>iPhone 8</td>\n",
       "      <td>2017-09-22</td>\n",
       "      <td>4.7</td>\n",
       "      <td>2GB</td>\n",
       "      <td>iOS 11.0</td>\n",
       "      <td>No</td>\n",
       "    </tr>\n",
       "    <tr>\n",
       "      <td>iPhone 8 Plus</td>\n",
       "      <td>2017-09-22</td>\n",
       "      <td>5.5</td>\n",
       "      <td>3GB</td>\n",
       "      <td>iOS 11.0</td>\n",
       "      <td>No</td>\n",
       "    </tr>\n",
       "    <tr>\n",
       "      <td>iPhone XS Max</td>\n",
       "      <td>2018-09-21</td>\n",
       "      <td>6.5</td>\n",
       "      <td>4GB</td>\n",
       "      <td>iOS 12.0</td>\n",
       "      <td>Yes</td>\n",
       "    </tr>\n",
       "  </tbody>\n",
       "</table>\n",
       "</div>"
      ],
      "text/plain": [
       "                      출시일  디스플레이  메모리     출시 버전 Face ID\n",
       "iPhone 7       2016-09-16    4.7  2GB  iOS 10.0      No\n",
       "iPhone 8       2017-09-22    4.7  2GB  iOS 11.0      No\n",
       "iPhone 8 Plus  2017-09-22    5.5  3GB  iOS 11.0      No\n",
       "iPhone XS Max  2018-09-21    6.5  4GB  iOS 12.0     Yes"
      ]
     },
     "execution_count": 23,
     "metadata": {},
     "output_type": "execute_result"
    }
   ],
   "source": [
    "df.loc[[True, False, True, True, False, False, True]] #0, 2, 3, 6번 인덱스만 출력"
   ]
  },
  {
   "cell_type": "code",
   "execution_count": 30,
   "metadata": {},
   "outputs": [
    {
     "data": {
      "text/plain": [
       "2011    35.951\n",
       "2012    36.163\n",
       "2013    31.989\n",
       "2014    31.210\n",
       "Name: KBS, dtype: float64"
      ]
     },
     "execution_count": 30,
     "metadata": {},
     "output_type": "execute_result"
    }
   ],
   "source": [
    "#실습 'KBS'에서 시청률이 30이 넘은 데이터만 확인\n",
    "kbs_df = pd.read_csv('data/broadcast.csv', index_col=0)\n",
    "\n",
    "boolean_kbs = kbs_df.loc[:, \"KBS\"] > 30\n",
    "#blean_kbs = df[\"KBS\"] > 30 위와 동일\n",
    "more_than_30 = kbs_df.loc[boolean_kbs, \"KBS\"]\n",
    "more_than_30"
   ]
  },
  {
   "cell_type": "code",
   "execution_count": 31,
   "metadata": {},
   "outputs": [],
   "source": [
    "#실습 SBS가 TV CHOSUN보다 더 시청률이 낮았던 시기\n",
    "sbs_df = pd.read_csv('data/broadcast.csv', index_col=0)"
   ]
  },
  {
   "cell_type": "code",
   "execution_count": 32,
   "metadata": {},
   "outputs": [
    {
     "data": {
      "text/plain": [
       "2011    11.173\n",
       "2012    11.408\n",
       "2013     9.673\n",
       "2014     9.108\n",
       "2015     9.099\n",
       "2016     8.669\n",
       "2017     8.661\n",
       "Name: SBS, dtype: float64"
      ]
     },
     "execution_count": 32,
     "metadata": {},
     "output_type": "execute_result"
    }
   ],
   "source": [
    "sbs_df.loc[:, \"SBS\"]"
   ]
  },
  {
   "cell_type": "code",
   "execution_count": 34,
   "metadata": {},
   "outputs": [
    {
     "data": {
      "text/plain": [
       "2011    9.102\n",
       "2012    8.785\n",
       "2013    9.026\n",
       "2014    9.440\n",
       "2015    9.940\n",
       "2016    9.829\n",
       "2017    8.886\n",
       "Name: TV CHOSUN, dtype: float64"
      ]
     },
     "execution_count": 34,
     "metadata": {},
     "output_type": "execute_result"
    }
   ],
   "source": [
    "sbs_df.loc[:, \"TV CHOSUN\"]"
   ]
  },
  {
   "cell_type": "code",
   "execution_count": 36,
   "metadata": {},
   "outputs": [],
   "source": [
    "boolean_sbs = sbs_df.loc[:, \"SBS\"] < sbs_df.loc[:, \"TV CHOSUN\"]"
   ]
  },
  {
   "cell_type": "code",
   "execution_count": 44,
   "metadata": {},
   "outputs": [
    {
     "data": {
      "text/plain": [
       "2011    False\n",
       "2012    False\n",
       "2013    False\n",
       "2014     True\n",
       "2015     True\n",
       "2016     True\n",
       "2017     True\n",
       "dtype: bool"
      ]
     },
     "execution_count": 44,
     "metadata": {},
     "output_type": "execute_result"
    }
   ],
   "source": [
    "boolean_sbs"
   ]
  },
  {
   "cell_type": "code",
   "execution_count": 59,
   "metadata": {},
   "outputs": [
    {
     "data": {
      "text/plain": [
       "2014    9.108\n",
       "2015    9.099\n",
       "2016    8.669\n",
       "2017    8.661\n",
       "Name: SBS, dtype: float64"
      ]
     },
     "execution_count": 59,
     "metadata": {},
     "output_type": "execute_result"
    }
   ],
   "source": [
    "sbs = sbs_df.loc[boolean_sbs, \"SBS\"]\n",
    "sbs"
   ]
  },
  {
   "cell_type": "code",
   "execution_count": 60,
   "metadata": {},
   "outputs": [
    {
     "data": {
      "text/plain": [
       "2014    9.440\n",
       "2015    9.940\n",
       "2016    9.829\n",
       "2017    8.886\n",
       "Name: TV CHOSUN, dtype: float64"
      ]
     },
     "execution_count": 60,
     "metadata": {},
     "output_type": "execute_result"
    }
   ],
   "source": [
    "chosun = sbs_df.loc[boolean_sbs, \"TV CHOSUN\"]\n",
    "chosun"
   ]
  },
  {
   "cell_type": "code",
   "execution_count": 57,
   "metadata": {},
   "outputs": [
    {
     "data": {
      "text/plain": [
       "pandas.core.series.Series"
      ]
     },
     "execution_count": 57,
     "metadata": {},
     "output_type": "execute_result"
    }
   ],
   "source": [
    "type(sbs_df.loc[boolean_sbs, \"SBS\"])"
   ]
  },
  {
   "cell_type": "code",
   "execution_count": 64,
   "metadata": {
    "scrolled": true
   },
   "outputs": [
    {
     "data": {
      "text/html": [
       "<div>\n",
       "<style scoped>\n",
       "    .dataframe tbody tr th:only-of-type {\n",
       "        vertical-align: middle;\n",
       "    }\n",
       "\n",
       "    .dataframe tbody tr th {\n",
       "        vertical-align: top;\n",
       "    }\n",
       "\n",
       "    .dataframe thead th {\n",
       "        text-align: right;\n",
       "    }\n",
       "</style>\n",
       "<table border=\"1\" class=\"dataframe\">\n",
       "  <thead>\n",
       "    <tr style=\"text-align: right;\">\n",
       "      <th></th>\n",
       "      <th>SBS</th>\n",
       "      <th>TV CHOSUN</th>\n",
       "    </tr>\n",
       "  </thead>\n",
       "  <tbody>\n",
       "    <tr>\n",
       "      <td>2014</td>\n",
       "      <td>9.108</td>\n",
       "      <td>9.440</td>\n",
       "    </tr>\n",
       "    <tr>\n",
       "      <td>2015</td>\n",
       "      <td>9.099</td>\n",
       "      <td>9.940</td>\n",
       "    </tr>\n",
       "    <tr>\n",
       "      <td>2016</td>\n",
       "      <td>8.669</td>\n",
       "      <td>9.829</td>\n",
       "    </tr>\n",
       "    <tr>\n",
       "      <td>2017</td>\n",
       "      <td>8.661</td>\n",
       "      <td>8.886</td>\n",
       "    </tr>\n",
       "  </tbody>\n",
       "</table>\n",
       "</div>"
      ],
      "text/plain": [
       "        SBS  TV CHOSUN\n",
       "2014  9.108      9.440\n",
       "2015  9.099      9.940\n",
       "2016  8.669      9.829\n",
       "2017  8.661      8.886"
      ]
     },
     "execution_count": 64,
     "metadata": {},
     "output_type": "execute_result"
    }
   ],
   "source": [
    "answer = {\n",
    "    \"SBS\": sbs,\n",
    "    \"TV CHOSUN\": chosun\n",
    "}\n",
    "answer_df = pd.DataFrame(answer)\n",
    "answer_df #돌아온 방법.."
   ]
  },
  {
   "cell_type": "code",
   "execution_count": 65,
   "metadata": {},
   "outputs": [
    {
     "data": {
      "text/html": [
       "<div>\n",
       "<style scoped>\n",
       "    .dataframe tbody tr th:only-of-type {\n",
       "        vertical-align: middle;\n",
       "    }\n",
       "\n",
       "    .dataframe tbody tr th {\n",
       "        vertical-align: top;\n",
       "    }\n",
       "\n",
       "    .dataframe thead th {\n",
       "        text-align: right;\n",
       "    }\n",
       "</style>\n",
       "<table border=\"1\" class=\"dataframe\">\n",
       "  <thead>\n",
       "    <tr style=\"text-align: right;\">\n",
       "      <th></th>\n",
       "      <th>SBS</th>\n",
       "      <th>TV CHOSUN</th>\n",
       "    </tr>\n",
       "  </thead>\n",
       "  <tbody>\n",
       "    <tr>\n",
       "      <td>2014</td>\n",
       "      <td>9.108</td>\n",
       "      <td>9.440</td>\n",
       "    </tr>\n",
       "    <tr>\n",
       "      <td>2015</td>\n",
       "      <td>9.099</td>\n",
       "      <td>9.940</td>\n",
       "    </tr>\n",
       "    <tr>\n",
       "      <td>2016</td>\n",
       "      <td>8.669</td>\n",
       "      <td>9.829</td>\n",
       "    </tr>\n",
       "    <tr>\n",
       "      <td>2017</td>\n",
       "      <td>8.661</td>\n",
       "      <td>8.886</td>\n",
       "    </tr>\n",
       "  </tbody>\n",
       "</table>\n",
       "</div>"
      ],
      "text/plain": [
       "        SBS  TV CHOSUN\n",
       "2014  9.108      9.440\n",
       "2015  9.099      9.940\n",
       "2016  8.669      9.829\n",
       "2017  8.661      8.886"
      ]
     },
     "execution_count": 65,
     "metadata": {},
     "output_type": "execute_result"
    }
   ],
   "source": [
    "sbs_df.loc[boolean_sbs, [\"SBS\", \"TV CHOSUN\"]]  #이게 더 쉽잖아.."
   ]
  }
 ],
 "metadata": {
  "kernelspec": {
   "display_name": "Python 3",
   "language": "python",
   "name": "python3"
  },
  "language_info": {
   "codemirror_mode": {
    "name": "ipython",
    "version": 3
   },
   "file_extension": ".py",
   "mimetype": "text/x-python",
   "name": "python",
   "nbconvert_exporter": "python",
   "pygments_lexer": "ipython3",
   "version": "3.7.4"
  }
 },
 "nbformat": 4,
 "nbformat_minor": 2
}
